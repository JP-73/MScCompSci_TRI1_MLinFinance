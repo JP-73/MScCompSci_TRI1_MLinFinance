{
 "cells": [
  {
   "cell_type": "markdown",
   "id": "5e566bf3-9eca-43d2-a9f4-663cbb7fff40",
   "metadata": {},
   "source": [
    "<html> <h1> Pipeline ONLY </h1> </html>"
   ]
  },
  {
   "cell_type": "markdown",
   "id": "b22ee478-97cb-4ab5-a519-9f7ace9dc095",
   "metadata": {},
   "source": [
    "![ML_Pipeline_Diagram](ML_Pipeline_Diagram.png)"
   ]
  },
  {
   "cell_type": "markdown",
   "id": "13fee891-0eca-4af1-a9cf-e93eb242b5c8",
   "metadata": {},
   "source": [
    "<html> <h3> 0. Setup and Module Imports </h3> </html>"
   ]
  },
  {
   "cell_type": "code",
   "execution_count": 4,
   "id": "0d0215b4-3e7c-4ba2-9c79-62d917ff01f1",
   "metadata": {},
   "outputs": [],
   "source": [
    "import numpy as np\n",
    "import pandas as pd\n",
    "\n",
    "import matplotlib.pyplot as plt\n",
    "%matplotlib inline\n",
    "\n",
    "import seaborn as sns\n",
    "\n",
    "import random\n",
    "\n",
    "import tensorflow as tf\n",
    "from tensorflow import keras\n",
    "from tensorflow.keras import layers, models\n",
    "\n",
    "from sklearn.model_selection import train_test_split\n",
    "from sklearn.preprocessing import MinMaxScaler"
   ]
  },
  {
   "cell_type": "markdown",
   "id": "ca50f3d8-5c0a-4104-8e5c-4ed572f15184",
   "metadata": {},
   "source": [
    "<html> <h2 style=\"color:#4EA72E;\"> 1. Merge Ask and Bid Datasets </h2> </html>"
   ]
  },
  {
   "cell_type": "markdown",
   "id": "88f0824b-985c-48fc-882b-08a99e181ac2",
   "metadata": {},
   "source": [
    "<html> <h3 style=\"color:#4EA72E;\"> Import Ask and Bid Datasets and Merge </h3> </html>"
   ]
  },
  {
   "cell_type": "code",
   "execution_count": 7,
   "id": "8f5c2650-da5d-4dd3-bd5a-666349d39c87",
   "metadata": {},
   "outputs": [],
   "source": [
    "#Import Ask data\n",
    "dataA = pd.read_csv('XAGUSD_5 Mins_Ask_2023.01.01_2023.06.30.csv')\n",
    "#Import Bid Data\n",
    "dataB = pd.read_csv('XAGUSD_5 Mins_Bid_2023.01.01_2023.06.30.csv')"
   ]
  },
  {
   "cell_type": "markdown",
   "id": "33c52c05-63c9-4b5b-ba2d-d66a6abaf8c7",
   "metadata": {},
   "source": [
    "<html> <h3 style=\"color:#4EA72E;\"> Merge </h3> </html>"
   ]
  },
  {
   "cell_type": "code",
   "execution_count": 9,
   "id": "a993d7df-9784-45c5-827b-7f92a8df1cc0",
   "metadata": {},
   "outputs": [
    {
     "data": {
      "text/html": [
       "<div>\n",
       "<style scoped>\n",
       "    .dataframe tbody tr th:only-of-type {\n",
       "        vertical-align: middle;\n",
       "    }\n",
       "\n",
       "    .dataframe tbody tr th {\n",
       "        vertical-align: top;\n",
       "    }\n",
       "\n",
       "    .dataframe thead th {\n",
       "        text-align: right;\n",
       "    }\n",
       "</style>\n",
       "<table border=\"1\" class=\"dataframe\">\n",
       "  <thead>\n",
       "    <tr style=\"text-align: right;\">\n",
       "      <th></th>\n",
       "      <th>Time (UTC)</th>\n",
       "      <th>Open_x</th>\n",
       "      <th>High_x</th>\n",
       "      <th>Low_x</th>\n",
       "      <th>Close_x</th>\n",
       "      <th>Volume _x</th>\n",
       "      <th>Open_y</th>\n",
       "      <th>High_y</th>\n",
       "      <th>Low_y</th>\n",
       "      <th>Close_y</th>\n",
       "      <th>Volume _y</th>\n",
       "    </tr>\n",
       "  </thead>\n",
       "  <tbody>\n",
       "    <tr>\n",
       "      <th>0</th>\n",
       "      <td>2023.01.02 23:00:00</td>\n",
       "      <td>24.036</td>\n",
       "      <td>24.059</td>\n",
       "      <td>24.017</td>\n",
       "      <td>24.059</td>\n",
       "      <td>0.3480</td>\n",
       "      <td>24.102</td>\n",
       "      <td>24.125</td>\n",
       "      <td>24.083</td>\n",
       "      <td>24.125</td>\n",
       "      <td>0.3510</td>\n",
       "    </tr>\n",
       "    <tr>\n",
       "      <th>1</th>\n",
       "      <td>2023.01.02 23:05:00</td>\n",
       "      <td>24.064</td>\n",
       "      <td>24.130</td>\n",
       "      <td>24.064</td>\n",
       "      <td>24.092</td>\n",
       "      <td>1.8458</td>\n",
       "      <td>24.094</td>\n",
       "      <td>24.188</td>\n",
       "      <td>24.094</td>\n",
       "      <td>24.141</td>\n",
       "      <td>1.1550</td>\n",
       "    </tr>\n",
       "    <tr>\n",
       "      <th>2</th>\n",
       "      <td>2023.01.02 23:10:00</td>\n",
       "      <td>24.094</td>\n",
       "      <td>24.098</td>\n",
       "      <td>23.972</td>\n",
       "      <td>23.977</td>\n",
       "      <td>0.9030</td>\n",
       "      <td>24.143</td>\n",
       "      <td>24.148</td>\n",
       "      <td>24.022</td>\n",
       "      <td>24.027</td>\n",
       "      <td>0.8820</td>\n",
       "    </tr>\n",
       "    <tr>\n",
       "      <th>3</th>\n",
       "      <td>2023.01.02 23:15:00</td>\n",
       "      <td>23.977</td>\n",
       "      <td>23.980</td>\n",
       "      <td>23.938</td>\n",
       "      <td>23.980</td>\n",
       "      <td>0.8940</td>\n",
       "      <td>24.026</td>\n",
       "      <td>24.028</td>\n",
       "      <td>23.986</td>\n",
       "      <td>24.028</td>\n",
       "      <td>0.8940</td>\n",
       "    </tr>\n",
       "    <tr>\n",
       "      <th>4</th>\n",
       "      <td>2023.01.02 23:20:00</td>\n",
       "      <td>23.978</td>\n",
       "      <td>24.024</td>\n",
       "      <td>23.976</td>\n",
       "      <td>24.023</td>\n",
       "      <td>0.8880</td>\n",
       "      <td>24.026</td>\n",
       "      <td>24.073</td>\n",
       "      <td>24.023</td>\n",
       "      <td>24.073</td>\n",
       "      <td>0.9044</td>\n",
       "    </tr>\n",
       "  </tbody>\n",
       "</table>\n",
       "</div>"
      ],
      "text/plain": [
       "            Time (UTC)  Open_x  High_x   Low_x  Close_x  Volume _x  Open_y  \\\n",
       "0  2023.01.02 23:00:00  24.036  24.059  24.017   24.059     0.3480  24.102   \n",
       "1  2023.01.02 23:05:00  24.064  24.130  24.064   24.092     1.8458  24.094   \n",
       "2  2023.01.02 23:10:00  24.094  24.098  23.972   23.977     0.9030  24.143   \n",
       "3  2023.01.02 23:15:00  23.977  23.980  23.938   23.980     0.8940  24.026   \n",
       "4  2023.01.02 23:20:00  23.978  24.024  23.976   24.023     0.8880  24.026   \n",
       "\n",
       "   High_y   Low_y  Close_y  Volume _y  \n",
       "0  24.125  24.083   24.125     0.3510  \n",
       "1  24.188  24.094   24.141     1.1550  \n",
       "2  24.148  24.022   24.027     0.8820  \n",
       "3  24.028  23.986   24.028     0.8940  \n",
       "4  24.073  24.023   24.073     0.9044  "
      ]
     },
     "execution_count": 9,
     "metadata": {},
     "output_type": "execute_result"
    }
   ],
   "source": [
    "#Merge Ask & Bid Datasets\n",
    "Combo_Data = dataB.merge(dataA, left_on='Time (UTC)', right_on='Time (UTC)', how='outer')\n",
    "\n",
    "#Display head of combined data set just to check\n",
    "Combo_Data.head()"
   ]
  },
  {
   "cell_type": "markdown",
   "id": "b1642ec4-23e8-4031-b9e1-1b869927dff5",
   "metadata": {},
   "source": [
    "<html> <h3 style=\"color:#4EA72E;\"> Rename Columns </h3> </html>"
   ]
  },
  {
   "cell_type": "code",
   "execution_count": 11,
   "id": "e3f9ae27-f17d-4d82-a4a3-f84212f0a1b8",
   "metadata": {},
   "outputs": [
    {
     "data": {
      "text/html": [
       "<div>\n",
       "<style scoped>\n",
       "    .dataframe tbody tr th:only-of-type {\n",
       "        vertical-align: middle;\n",
       "    }\n",
       "\n",
       "    .dataframe tbody tr th {\n",
       "        vertical-align: top;\n",
       "    }\n",
       "\n",
       "    .dataframe thead th {\n",
       "        text-align: right;\n",
       "    }\n",
       "</style>\n",
       "<table border=\"1\" class=\"dataframe\">\n",
       "  <thead>\n",
       "    <tr style=\"text-align: right;\">\n",
       "      <th></th>\n",
       "      <th>Time (UTC)</th>\n",
       "      <th>Open_Bid</th>\n",
       "      <th>High_Bid</th>\n",
       "      <th>Low_Bid</th>\n",
       "      <th>Close_Bid</th>\n",
       "      <th>Volume_Bid</th>\n",
       "      <th>Open_Ask</th>\n",
       "      <th>High_Ask</th>\n",
       "      <th>Low_Ask</th>\n",
       "      <th>Close_Ask</th>\n",
       "      <th>Volume_Ask</th>\n",
       "    </tr>\n",
       "  </thead>\n",
       "  <tbody>\n",
       "    <tr>\n",
       "      <th>0</th>\n",
       "      <td>2023.01.02 23:00:00</td>\n",
       "      <td>24.036</td>\n",
       "      <td>24.059</td>\n",
       "      <td>24.017</td>\n",
       "      <td>24.059</td>\n",
       "      <td>0.3480</td>\n",
       "      <td>24.102</td>\n",
       "      <td>24.125</td>\n",
       "      <td>24.083</td>\n",
       "      <td>24.125</td>\n",
       "      <td>0.3510</td>\n",
       "    </tr>\n",
       "    <tr>\n",
       "      <th>1</th>\n",
       "      <td>2023.01.02 23:05:00</td>\n",
       "      <td>24.064</td>\n",
       "      <td>24.130</td>\n",
       "      <td>24.064</td>\n",
       "      <td>24.092</td>\n",
       "      <td>1.8458</td>\n",
       "      <td>24.094</td>\n",
       "      <td>24.188</td>\n",
       "      <td>24.094</td>\n",
       "      <td>24.141</td>\n",
       "      <td>1.1550</td>\n",
       "    </tr>\n",
       "    <tr>\n",
       "      <th>2</th>\n",
       "      <td>2023.01.02 23:10:00</td>\n",
       "      <td>24.094</td>\n",
       "      <td>24.098</td>\n",
       "      <td>23.972</td>\n",
       "      <td>23.977</td>\n",
       "      <td>0.9030</td>\n",
       "      <td>24.143</td>\n",
       "      <td>24.148</td>\n",
       "      <td>24.022</td>\n",
       "      <td>24.027</td>\n",
       "      <td>0.8820</td>\n",
       "    </tr>\n",
       "    <tr>\n",
       "      <th>3</th>\n",
       "      <td>2023.01.02 23:15:00</td>\n",
       "      <td>23.977</td>\n",
       "      <td>23.980</td>\n",
       "      <td>23.938</td>\n",
       "      <td>23.980</td>\n",
       "      <td>0.8940</td>\n",
       "      <td>24.026</td>\n",
       "      <td>24.028</td>\n",
       "      <td>23.986</td>\n",
       "      <td>24.028</td>\n",
       "      <td>0.8940</td>\n",
       "    </tr>\n",
       "    <tr>\n",
       "      <th>4</th>\n",
       "      <td>2023.01.02 23:20:00</td>\n",
       "      <td>23.978</td>\n",
       "      <td>24.024</td>\n",
       "      <td>23.976</td>\n",
       "      <td>24.023</td>\n",
       "      <td>0.8880</td>\n",
       "      <td>24.026</td>\n",
       "      <td>24.073</td>\n",
       "      <td>24.023</td>\n",
       "      <td>24.073</td>\n",
       "      <td>0.9044</td>\n",
       "    </tr>\n",
       "  </tbody>\n",
       "</table>\n",
       "</div>"
      ],
      "text/plain": [
       "            Time (UTC)  Open_Bid  High_Bid  Low_Bid  Close_Bid  Volume_Bid  \\\n",
       "0  2023.01.02 23:00:00    24.036    24.059   24.017     24.059      0.3480   \n",
       "1  2023.01.02 23:05:00    24.064    24.130   24.064     24.092      1.8458   \n",
       "2  2023.01.02 23:10:00    24.094    24.098   23.972     23.977      0.9030   \n",
       "3  2023.01.02 23:15:00    23.977    23.980   23.938     23.980      0.8940   \n",
       "4  2023.01.02 23:20:00    23.978    24.024   23.976     24.023      0.8880   \n",
       "\n",
       "   Open_Ask  High_Ask  Low_Ask  Close_Ask  Volume_Ask  \n",
       "0    24.102    24.125   24.083     24.125      0.3510  \n",
       "1    24.094    24.188   24.094     24.141      1.1550  \n",
       "2    24.143    24.148   24.022     24.027      0.8820  \n",
       "3    24.026    24.028   23.986     24.028      0.8940  \n",
       "4    24.026    24.073   24.023     24.073      0.9044  "
      ]
     },
     "execution_count": 11,
     "metadata": {},
     "output_type": "execute_result"
    }
   ],
   "source": [
    "#Rename the Columns to something more sensible\n",
    "Combo_Data.columns = ['Time (UTC)', 'Open_Bid', 'High_Bid', 'Low_Bid', 'Close_Bid', 'Volume_Bid', \n",
    "                   'Open_Ask', 'High_Ask', 'Low_Ask', 'Close_Ask', 'Volume_Ask']\n",
    "\n",
    "Combo_Data.head()"
   ]
  },
  {
   "cell_type": "code",
   "execution_count": 12,
   "id": "5172bec3-a9fe-426c-82e9-b899748004f0",
   "metadata": {},
   "outputs": [],
   "source": [
    "#Save the new combined data set to a new file\n",
    "#The name of this file is contextual to the data - e.g. Silver Ask Bid\n",
    "file_obj2 = open('Silver_ASK_BID_Combo_Data.csv', 'w')\n",
    "Combo_Data.to_csv('Silver_ASK_BID_Combo_Data.csv', encoding='utf-8', index=False)\n",
    "file_obj2.close()"
   ]
  },
  {
   "cell_type": "code",
   "execution_count": 13,
   "id": "32fcca63-d2da-4870-8dbf-b0a6d5735153",
   "metadata": {},
   "outputs": [],
   "source": [
    "#Clear Combo Data AND DataA/B\n",
    "Combo_Data = []\n",
    "DataA = []\n",
    "DataB = []"
   ]
  },
  {
   "cell_type": "code",
   "execution_count": 14,
   "id": "067b1a5a-2a82-4990-8437-bf9c5be869f0",
   "metadata": {},
   "outputs": [],
   "source": [
    "#Import new combined data set\n",
    "data = pd.read_csv('Silver_ASK_BID_Combo_Data.csv', low_memory=False, sep=',')"
   ]
  },
  {
   "cell_type": "markdown",
   "id": "7b35f874-fa64-4acc-8ba7-c780facd021a",
   "metadata": {},
   "source": [
    "<html> <h2 style=\"color:#D86ECC;\"> 2. Plot Price and Volume Charts </h2> </html>"
   ]
  },
  {
   "cell_type": "code",
   "execution_count": 16,
   "id": "3575c03b-1f55-4467-a125-d405583704f1",
   "metadata": {},
   "outputs": [
    {
     "data": {
      "image/png": "[encoded data removed]",
      "text/plain": [
       "<Figure size 1200x600 with 1 Axes>"
      ]
     },
     "metadata": {},
     "output_type": "display_data"
    }
   ],
   "source": [
    "#Plot Ask Close Price Data\n",
    "plt.figure(figsize=(12,6))\n",
    "plt.plot(data['Close_Ask'])\n",
    "plt.title('Silver Close Price')\n",
    "plt.xlabel('N minutes')\n",
    "plt.ylabel('Close Price')\n",
    "plt.show()"
   ]
  },
  {
   "cell_type": "code",
   "execution_count": 17,
   "id": "ee8dc895-85a0-4ca7-b937-b7abbc68f877",
   "metadata": {},
   "outputs": [
    {
     "data": {
      "image/png": "[encoded data removed]",
      "text/plain": [
       "<Figure size 1200x500 with 1 Axes>"
      ]
     },
     "metadata": {},
     "output_type": "display_data"
    }
   ],
   "source": [
    "#Plot Bid Volume Data\n",
    "plt.figure(num=1,figsize=(12,5))\n",
    "plt.hist(data['Volume_Bid'],bins=100)\n",
    "plt.title('Volume (Bid) distribution', size=18)\n",
    "plt.ylabel('Numbers',size=14)\n",
    "plt.xlabel('Volume (Bid)',size=14);"
   ]
  },
  {
   "cell_type": "markdown",
   "id": "e27d4f0c-b2ff-4141-b075-65cf35f9da56",
   "metadata": {},
   "source": [
    "### Calculate Deltas"
   ]
  },
  {
   "cell_type": "code",
   "execution_count": 19,
   "id": "9965e5c1-afc9-4cd5-a67a-af2f4d3cdf52",
   "metadata": {},
   "outputs": [],
   "source": [
    "# Delta of trading volumes (as well as the modulus of this delta) between Ask \n",
    "# and Bid volumes are added as additional parameters\n",
    "\n",
    "data[\"Volume_Delta\"] = data[\"Volume_Ask\"] - data[\"Volume_Bid\"]\n",
    "data[\"Volume_Delta_abs\"] = (data[\"Volume_Ask\"] - data[\"Volume_Bid\"]).abs()"
   ]
  },
  {
   "cell_type": "code",
   "execution_count": 20,
   "id": "8e4509fc-3b21-4695-870f-8e63cc3c37b9",
   "metadata": {},
   "outputs": [],
   "source": [
    "#Calculate Deltas for Prices\n",
    "data[\"Open_Delta\"] = data[\"Open_Ask\"]  - data[\"Open_Bid\"]\n",
    "data[\"High_Delta\"] = data[\"High_Ask\"]  - data[\"High_Bid\"]\n",
    "data[\"Low_Delta\"]  = data[\"Low_Ask\"]   - data[\"Low_Bid\"]\n",
    "data[\"Close_Delta\"] = data[\"Close_Ask\"] - data[\"Close_Bid\"]"
   ]
  },
  {
   "cell_type": "code",
   "execution_count": 21,
   "id": "450ca24c-4620-4c94-bc8a-f7f439019271",
   "metadata": {},
   "outputs": [
    {
     "data": {
      "text/html": [
       "<div>\n",
       "<style scoped>\n",
       "    .dataframe tbody tr th:only-of-type {\n",
       "        vertical-align: middle;\n",
       "    }\n",
       "\n",
       "    .dataframe tbody tr th {\n",
       "        vertical-align: top;\n",
       "    }\n",
       "\n",
       "    .dataframe thead th {\n",
       "        text-align: right;\n",
       "    }\n",
       "</style>\n",
       "<table border=\"1\" class=\"dataframe\">\n",
       "  <thead>\n",
       "    <tr style=\"text-align: right;\">\n",
       "      <th></th>\n",
       "      <th>Open_Bid</th>\n",
       "      <th>High_Bid</th>\n",
       "      <th>Low_Bid</th>\n",
       "      <th>Close_Bid</th>\n",
       "      <th>Volume_Bid</th>\n",
       "      <th>Open_Ask</th>\n",
       "      <th>High_Ask</th>\n",
       "      <th>Low_Ask</th>\n",
       "      <th>Close_Ask</th>\n",
       "      <th>Volume_Ask</th>\n",
       "      <th>Volume_Delta</th>\n",
       "      <th>Volume_Delta_abs</th>\n",
       "      <th>Open_Delta</th>\n",
       "      <th>High_Delta</th>\n",
       "      <th>Low_Delta</th>\n",
       "      <th>Close_Delta</th>\n",
       "    </tr>\n",
       "  </thead>\n",
       "  <tbody>\n",
       "    <tr>\n",
       "      <th>count</th>\n",
       "      <td>35220.000000</td>\n",
       "      <td>35220.000000</td>\n",
       "      <td>35220.000000</td>\n",
       "      <td>35220.000000</td>\n",
       "      <td>35220.000000</td>\n",
       "      <td>35220.000000</td>\n",
       "      <td>35220.000000</td>\n",
       "      <td>35220.000000</td>\n",
       "      <td>35220.000000</td>\n",
       "      <td>35220.000000</td>\n",
       "      <td>35220.000000</td>\n",
       "      <td>35220.000000</td>\n",
       "      <td>35220.000000</td>\n",
       "      <td>35220.000000</td>\n",
       "      <td>35220.000000</td>\n",
       "      <td>35220.000000</td>\n",
       "    </tr>\n",
       "    <tr>\n",
       "      <th>mean</th>\n",
       "      <td>23.357365</td>\n",
       "      <td>23.374611</td>\n",
       "      <td>23.338437</td>\n",
       "      <td>23.357367</td>\n",
       "      <td>8.283187</td>\n",
       "      <td>23.387577</td>\n",
       "      <td>23.404824</td>\n",
       "      <td>23.368703</td>\n",
       "      <td>23.387501</td>\n",
       "      <td>35.095338</td>\n",
       "      <td>26.812151</td>\n",
       "      <td>26.908678</td>\n",
       "      <td>0.030212</td>\n",
       "      <td>0.030212</td>\n",
       "      <td>0.030266</td>\n",
       "      <td>0.030134</td>\n",
       "    </tr>\n",
       "    <tr>\n",
       "      <th>std</th>\n",
       "      <td>1.368781</td>\n",
       "      <td>1.368825</td>\n",
       "      <td>1.368926</td>\n",
       "      <td>1.368867</td>\n",
       "      <td>8.976407</td>\n",
       "      <td>1.368779</td>\n",
       "      <td>1.368797</td>\n",
       "      <td>1.368944</td>\n",
       "      <td>1.368861</td>\n",
       "      <td>39.024921</td>\n",
       "      <td>33.422609</td>\n",
       "      <td>33.344942</td>\n",
       "      <td>0.003245</td>\n",
       "      <td>0.003380</td>\n",
       "      <td>0.005014</td>\n",
       "      <td>0.003851</td>\n",
       "    </tr>\n",
       "    <tr>\n",
       "      <th>min</th>\n",
       "      <td>19.893000</td>\n",
       "      <td>19.914000</td>\n",
       "      <td>19.888000</td>\n",
       "      <td>19.893000</td>\n",
       "      <td>0.000000</td>\n",
       "      <td>19.923000</td>\n",
       "      <td>19.944000</td>\n",
       "      <td>19.918000</td>\n",
       "      <td>19.923000</td>\n",
       "      <td>0.000000</td>\n",
       "      <td>-48.791200</td>\n",
       "      <td>0.000000</td>\n",
       "      <td>0.011000</td>\n",
       "      <td>0.018000</td>\n",
       "      <td>0.001000</td>\n",
       "      <td>0.012000</td>\n",
       "    </tr>\n",
       "    <tr>\n",
       "      <th>25%</th>\n",
       "      <td>22.421750</td>\n",
       "      <td>22.440000</td>\n",
       "      <td>22.400000</td>\n",
       "      <td>22.421000</td>\n",
       "      <td>2.611050</td>\n",
       "      <td>22.452000</td>\n",
       "      <td>22.470000</td>\n",
       "      <td>22.430000</td>\n",
       "      <td>22.451000</td>\n",
       "      <td>9.467675</td>\n",
       "      <td>5.170550</td>\n",
       "      <td>5.237100</td>\n",
       "      <td>0.030000</td>\n",
       "      <td>0.030000</td>\n",
       "      <td>0.030000</td>\n",
       "      <td>0.030000</td>\n",
       "    </tr>\n",
       "    <tr>\n",
       "      <th>50%</th>\n",
       "      <td>23.560000</td>\n",
       "      <td>23.576000</td>\n",
       "      <td>23.543000</td>\n",
       "      <td>23.560000</td>\n",
       "      <td>5.331100</td>\n",
       "      <td>23.590000</td>\n",
       "      <td>23.607000</td>\n",
       "      <td>23.573000</td>\n",
       "      <td>23.590000</td>\n",
       "      <td>22.237450</td>\n",
       "      <td>14.907800</td>\n",
       "      <td>14.937300</td>\n",
       "      <td>0.030000</td>\n",
       "      <td>0.030000</td>\n",
       "      <td>0.030000</td>\n",
       "      <td>0.030000</td>\n",
       "    </tr>\n",
       "    <tr>\n",
       "      <th>75%</th>\n",
       "      <td>24.122000</td>\n",
       "      <td>24.144000</td>\n",
       "      <td>24.103000</td>\n",
       "      <td>24.122000</td>\n",
       "      <td>10.686275</td>\n",
       "      <td>24.153000</td>\n",
       "      <td>24.174000</td>\n",
       "      <td>24.133000</td>\n",
       "      <td>24.152000</td>\n",
       "      <td>46.639375</td>\n",
       "      <td>36.154925</td>\n",
       "      <td>36.159175</td>\n",
       "      <td>0.030000</td>\n",
       "      <td>0.030000</td>\n",
       "      <td>0.030000</td>\n",
       "      <td>0.030000</td>\n",
       "    </tr>\n",
       "    <tr>\n",
       "      <th>max</th>\n",
       "      <td>26.118000</td>\n",
       "      <td>26.123000</td>\n",
       "      <td>26.098000</td>\n",
       "      <td>26.118000</td>\n",
       "      <td>120.651700</td>\n",
       "      <td>26.148000</td>\n",
       "      <td>26.153000</td>\n",
       "      <td>26.128000</td>\n",
       "      <td>26.148000</td>\n",
       "      <td>365.632200</td>\n",
       "      <td>317.585800</td>\n",
       "      <td>317.585800</td>\n",
       "      <td>0.185000</td>\n",
       "      <td>0.222000</td>\n",
       "      <td>0.409000</td>\n",
       "      <td>0.309000</td>\n",
       "    </tr>\n",
       "  </tbody>\n",
       "</table>\n",
       "</div>"
      ],
      "text/plain": [
       "           Open_Bid      High_Bid       Low_Bid     Close_Bid    Volume_Bid  \\\n",
       "count  35220.000000  35220.000000  35220.000000  35220.000000  35220.000000   \n",
       "mean      23.357365     23.374611     23.338437     23.357367      8.283187   \n",
       "std        1.368781      1.368825      1.368926      1.368867      8.976407   \n",
       "min       19.893000     19.914000     19.888000     19.893000      0.000000   \n",
       "25%       22.421750     22.440000     22.400000     22.421000      2.611050   \n",
       "50%       23.560000     23.576000     23.543000     23.560000      5.331100   \n",
       "75%       24.122000     24.144000     24.103000     24.122000     10.686275   \n",
       "max       26.118000     26.123000     26.098000     26.118000    120.651700   \n",
       "\n",
       "           Open_Ask      High_Ask       Low_Ask     Close_Ask    Volume_Ask  \\\n",
       "count  35220.000000  35220.000000  35220.000000  35220.000000  35220.000000   \n",
       "mean      23.387577     23.404824     23.368703     23.387501     35.095338   \n",
       "std        1.368779      1.368797      1.368944      1.368861     39.024921   \n",
       "min       19.923000     19.944000     19.918000     19.923000      0.000000   \n",
       "25%       22.452000     22.470000     22.430000     22.451000      9.467675   \n",
       "50%       23.590000     23.607000     23.573000     23.590000     22.237450   \n",
       "75%       24.153000     24.174000     24.133000     24.152000     46.639375   \n",
       "max       26.148000     26.153000     26.128000     26.148000    365.632200   \n",
       "\n",
       "       Volume_Delta  Volume_Delta_abs    Open_Delta    High_Delta  \\\n",
       "count  35220.000000      35220.000000  35220.000000  35220.000000   \n",
       "mean      26.812151         26.908678      0.030212      0.030212   \n",
       "std       33.422609         33.344942      0.003245      0.003380   \n",
       "min      -48.791200          0.000000      0.011000      0.018000   \n",
       "25%        5.170550          5.237100      0.030000      0.030000   \n",
       "50%       14.907800         14.937300      0.030000      0.030000   \n",
       "75%       36.154925         36.159175      0.030000      0.030000   \n",
       "max      317.585800        317.585800      0.185000      0.222000   \n",
       "\n",
       "          Low_Delta   Close_Delta  \n",
       "count  35220.000000  35220.000000  \n",
       "mean       0.030266      0.030134  \n",
       "std        0.005014      0.003851  \n",
       "min        0.001000      0.012000  \n",
       "25%        0.030000      0.030000  \n",
       "50%        0.030000      0.030000  \n",
       "75%        0.030000      0.030000  \n",
       "max        0.409000      0.309000  "
      ]
     },
     "execution_count": 21,
     "metadata": {},
     "output_type": "execute_result"
    }
   ],
   "source": [
    "data.describe()"
   ]
  },
  {
   "cell_type": "markdown",
   "id": "0fe753f0-593d-449f-9e51-77e0b480010f",
   "metadata": {},
   "source": [
    "### Drop Time"
   ]
  },
  {
   "cell_type": "code",
   "execution_count": 23,
   "id": "7a7a2fd9-1f16-408d-8689-e05181162867",
   "metadata": {},
   "outputs": [],
   "source": [
    "data = data.drop(['Time (UTC)'],axis=1)"
   ]
  },
  {
   "cell_type": "code",
   "execution_count": 24,
   "id": "d246e97c-99c7-4999-9791-ecb26c6b6c12",
   "metadata": {
    "scrolled": true
   },
   "outputs": [
    {
     "data": {
      "text/html": [
       "<div>\n",
       "<style scoped>\n",
       "    .dataframe tbody tr th:only-of-type {\n",
       "        vertical-align: middle;\n",
       "    }\n",
       "\n",
       "    .dataframe tbody tr th {\n",
       "        vertical-align: top;\n",
       "    }\n",
       "\n",
       "    .dataframe thead th {\n",
       "        text-align: right;\n",
       "    }\n",
       "</style>\n",
       "<table border=\"1\" class=\"dataframe\">\n",
       "  <thead>\n",
       "    <tr style=\"text-align: right;\">\n",
       "      <th></th>\n",
       "      <th>Open_Bid</th>\n",
       "      <th>High_Bid</th>\n",
       "      <th>Low_Bid</th>\n",
       "      <th>Close_Bid</th>\n",
       "      <th>Volume_Bid</th>\n",
       "      <th>Open_Ask</th>\n",
       "      <th>High_Ask</th>\n",
       "      <th>Low_Ask</th>\n",
       "      <th>Close_Ask</th>\n",
       "      <th>Volume_Ask</th>\n",
       "      <th>Volume_Delta</th>\n",
       "      <th>Volume_Delta_abs</th>\n",
       "      <th>Open_Delta</th>\n",
       "      <th>High_Delta</th>\n",
       "      <th>Low_Delta</th>\n",
       "      <th>Close_Delta</th>\n",
       "    </tr>\n",
       "  </thead>\n",
       "  <tbody>\n",
       "    <tr>\n",
       "      <th>0</th>\n",
       "      <td>24.036</td>\n",
       "      <td>24.059</td>\n",
       "      <td>24.017</td>\n",
       "      <td>24.059</td>\n",
       "      <td>0.3480</td>\n",
       "      <td>24.102</td>\n",
       "      <td>24.125</td>\n",
       "      <td>24.083</td>\n",
       "      <td>24.125</td>\n",
       "      <td>0.3510</td>\n",
       "      <td>0.0030</td>\n",
       "      <td>0.0030</td>\n",
       "      <td>0.066</td>\n",
       "      <td>0.066</td>\n",
       "      <td>0.066</td>\n",
       "      <td>0.066</td>\n",
       "    </tr>\n",
       "    <tr>\n",
       "      <th>1</th>\n",
       "      <td>24.064</td>\n",
       "      <td>24.130</td>\n",
       "      <td>24.064</td>\n",
       "      <td>24.092</td>\n",
       "      <td>1.8458</td>\n",
       "      <td>24.094</td>\n",
       "      <td>24.188</td>\n",
       "      <td>24.094</td>\n",
       "      <td>24.141</td>\n",
       "      <td>1.1550</td>\n",
       "      <td>-0.6908</td>\n",
       "      <td>0.6908</td>\n",
       "      <td>0.030</td>\n",
       "      <td>0.058</td>\n",
       "      <td>0.030</td>\n",
       "      <td>0.049</td>\n",
       "    </tr>\n",
       "    <tr>\n",
       "      <th>2</th>\n",
       "      <td>24.094</td>\n",
       "      <td>24.098</td>\n",
       "      <td>23.972</td>\n",
       "      <td>23.977</td>\n",
       "      <td>0.9030</td>\n",
       "      <td>24.143</td>\n",
       "      <td>24.148</td>\n",
       "      <td>24.022</td>\n",
       "      <td>24.027</td>\n",
       "      <td>0.8820</td>\n",
       "      <td>-0.0210</td>\n",
       "      <td>0.0210</td>\n",
       "      <td>0.049</td>\n",
       "      <td>0.050</td>\n",
       "      <td>0.050</td>\n",
       "      <td>0.050</td>\n",
       "    </tr>\n",
       "    <tr>\n",
       "      <th>3</th>\n",
       "      <td>23.977</td>\n",
       "      <td>23.980</td>\n",
       "      <td>23.938</td>\n",
       "      <td>23.980</td>\n",
       "      <td>0.8940</td>\n",
       "      <td>24.026</td>\n",
       "      <td>24.028</td>\n",
       "      <td>23.986</td>\n",
       "      <td>24.028</td>\n",
       "      <td>0.8940</td>\n",
       "      <td>0.0000</td>\n",
       "      <td>0.0000</td>\n",
       "      <td>0.049</td>\n",
       "      <td>0.048</td>\n",
       "      <td>0.048</td>\n",
       "      <td>0.048</td>\n",
       "    </tr>\n",
       "    <tr>\n",
       "      <th>4</th>\n",
       "      <td>23.978</td>\n",
       "      <td>24.024</td>\n",
       "      <td>23.976</td>\n",
       "      <td>24.023</td>\n",
       "      <td>0.8880</td>\n",
       "      <td>24.026</td>\n",
       "      <td>24.073</td>\n",
       "      <td>24.023</td>\n",
       "      <td>24.073</td>\n",
       "      <td>0.9044</td>\n",
       "      <td>0.0164</td>\n",
       "      <td>0.0164</td>\n",
       "      <td>0.048</td>\n",
       "      <td>0.049</td>\n",
       "      <td>0.047</td>\n",
       "      <td>0.050</td>\n",
       "    </tr>\n",
       "  </tbody>\n",
       "</table>\n",
       "</div>"
      ],
      "text/plain": [
       "   Open_Bid  High_Bid  Low_Bid  Close_Bid  Volume_Bid  Open_Ask  High_Ask  \\\n",
       "0    24.036    24.059   24.017     24.059      0.3480    24.102    24.125   \n",
       "1    24.064    24.130   24.064     24.092      1.8458    24.094    24.188   \n",
       "2    24.094    24.098   23.972     23.977      0.9030    24.143    24.148   \n",
       "3    23.977    23.980   23.938     23.980      0.8940    24.026    24.028   \n",
       "4    23.978    24.024   23.976     24.023      0.8880    24.026    24.073   \n",
       "\n",
       "   Low_Ask  Close_Ask  Volume_Ask  Volume_Delta  Volume_Delta_abs  Open_Delta  \\\n",
       "0   24.083     24.125      0.3510        0.0030            0.0030       0.066   \n",
       "1   24.094     24.141      1.1550       -0.6908            0.6908       0.030   \n",
       "2   24.022     24.027      0.8820       -0.0210            0.0210       0.049   \n",
       "3   23.986     24.028      0.8940        0.0000            0.0000       0.049   \n",
       "4   24.023     24.073      0.9044        0.0164            0.0164       0.048   \n",
       "\n",
       "   High_Delta  Low_Delta  Close_Delta  \n",
       "0       0.066      0.066        0.066  \n",
       "1       0.058      0.030        0.049  \n",
       "2       0.050      0.050        0.050  \n",
       "3       0.048      0.048        0.048  \n",
       "4       0.049      0.047        0.050  "
      ]
     },
     "execution_count": 24,
     "metadata": {},
     "output_type": "execute_result"
    }
   ],
   "source": [
    "data.head()"
   ]
  },
  {
   "cell_type": "markdown",
   "id": "db2ef430-41cb-4e9f-a914-418eede8d4ab",
   "metadata": {},
   "source": [
    "### Create Y Columns"
   ]
  },
  {
   "cell_type": "code",
   "execution_count": 26,
   "id": "99604096-9076-40e5-a31c-1ba39005c1ba",
   "metadata": {},
   "outputs": [],
   "source": [
    "data['Y_High_Bid'] = data['High_Bid']\n",
    "data['Y_Low_Ask'] = data['Low_Bid'] + data['Low_Delta']"
   ]
  },
  {
   "cell_type": "code",
   "execution_count": 27,
   "id": "6dc7837a-b25c-4b2c-bbe9-437ac93dffdf",
   "metadata": {},
   "outputs": [],
   "source": [
    "#Removes the Ask Columns\n",
    "#data2=data.drop(['Open_Ask','High_Ask','Low_Ask','Close_Ask'],axis=1)"
   ]
  },
  {
   "cell_type": "markdown",
   "id": "e9149bfa-ea55-4cb4-a86d-d9917254821b",
   "metadata": {},
   "source": [
    "### Split Data Set into X and y"
   ]
  },
  {
   "cell_type": "code",
   "execution_count": 29,
   "id": "7d695bf6-30f1-493e-9b7e-965c461e5ffd",
   "metadata": {},
   "outputs": [],
   "source": [
    "#Seperate X and y data sets\n",
    "#X is everything except the Y_High_Bid and Y_Low_Ask columns\n",
    "data_X = data.drop(['Y_High_Bid', 'Y_Low_Ask'], axis=1)\n",
    "#y is just the Y_High_Bid and Y_Low_Ask columns\n",
    "data_y = data[['Y_High_Bid', 'Y_Low_Ask']]"
   ]
  },
  {
   "cell_type": "code",
   "execution_count": 30,
   "id": "0b907c61-2133-4910-a026-78287c53ae54",
   "metadata": {
    "scrolled": true
   },
   "outputs": [
    {
     "data": {
      "text/plain": [
       "(35220, 16)"
      ]
     },
     "execution_count": 30,
     "metadata": {},
     "output_type": "execute_result"
    }
   ],
   "source": [
    "data_X.shape"
   ]
  },
  {
   "cell_type": "code",
   "execution_count": 31,
   "id": "15c0b497-c6f3-436c-85be-dbdbd4ea3a43",
   "metadata": {
    "scrolled": true
   },
   "outputs": [
    {
     "data": {
      "text/plain": [
       "(35220, 2)"
      ]
     },
     "execution_count": 31,
     "metadata": {},
     "output_type": "execute_result"
    }
   ],
   "source": [
    "data_y.shape"
   ]
  },
  {
   "cell_type": "markdown",
   "id": "fa6370f6-4ddc-4c96-ae08-4291f6bf59b6",
   "metadata": {},
   "source": [
    "### Shift Data"
   ]
  },
  {
   "cell_type": "code",
   "execution_count": 33,
   "id": "fd8b5c46-50ef-4806-9dca-3a04c33fde2c",
   "metadata": {},
   "outputs": [],
   "source": [
    "data_y = data_y.shift(-1)"
   ]
  },
  {
   "cell_type": "code",
   "execution_count": 34,
   "id": "4eefaf95-b797-429d-82ed-a0f526e13003",
   "metadata": {
    "scrolled": true
   },
   "outputs": [
    {
     "data": {
      "text/html": [
       "<div>\n",
       "<style scoped>\n",
       "    .dataframe tbody tr th:only-of-type {\n",
       "        vertical-align: middle;\n",
       "    }\n",
       "\n",
       "    .dataframe tbody tr th {\n",
       "        vertical-align: top;\n",
       "    }\n",
       "\n",
       "    .dataframe thead th {\n",
       "        text-align: right;\n",
       "    }\n",
       "</style>\n",
       "<table border=\"1\" class=\"dataframe\">\n",
       "  <thead>\n",
       "    <tr style=\"text-align: right;\">\n",
       "      <th></th>\n",
       "      <th>Y_High_Bid</th>\n",
       "      <th>Y_Low_Ask</th>\n",
       "    </tr>\n",
       "  </thead>\n",
       "  <tbody>\n",
       "    <tr>\n",
       "      <th>35215</th>\n",
       "      <td>22.751</td>\n",
       "      <td>22.775</td>\n",
       "    </tr>\n",
       "    <tr>\n",
       "      <th>35216</th>\n",
       "      <td>22.751</td>\n",
       "      <td>22.776</td>\n",
       "    </tr>\n",
       "    <tr>\n",
       "      <th>35217</th>\n",
       "      <td>22.761</td>\n",
       "      <td>22.774</td>\n",
       "    </tr>\n",
       "    <tr>\n",
       "      <th>35218</th>\n",
       "      <td>22.766</td>\n",
       "      <td>22.786</td>\n",
       "    </tr>\n",
       "    <tr>\n",
       "      <th>35219</th>\n",
       "      <td>NaN</td>\n",
       "      <td>NaN</td>\n",
       "    </tr>\n",
       "  </tbody>\n",
       "</table>\n",
       "</div>"
      ],
      "text/plain": [
       "       Y_High_Bid  Y_Low_Ask\n",
       "35215      22.751     22.775\n",
       "35216      22.751     22.776\n",
       "35217      22.761     22.774\n",
       "35218      22.766     22.786\n",
       "35219         NaN        NaN"
      ]
     },
     "execution_count": 34,
     "metadata": {},
     "output_type": "execute_result"
    }
   ],
   "source": [
    "data_y.tail(5)"
   ]
  },
  {
   "cell_type": "code",
   "execution_count": 35,
   "id": "d35aec65-1b92-4f31-b9ed-df4201494b7a",
   "metadata": {},
   "outputs": [],
   "source": [
    "data_y = data_y.dropna().reset_index(drop=True)"
   ]
  },
  {
   "cell_type": "code",
   "execution_count": 36,
   "id": "9b05d3fc-1e7e-44fc-9ea5-30753f8fdfd0",
   "metadata": {},
   "outputs": [
    {
     "data": {
      "text/html": [
       "<div>\n",
       "<style scoped>\n",
       "    .dataframe tbody tr th:only-of-type {\n",
       "        vertical-align: middle;\n",
       "    }\n",
       "\n",
       "    .dataframe tbody tr th {\n",
       "        vertical-align: top;\n",
       "    }\n",
       "\n",
       "    .dataframe thead th {\n",
       "        text-align: right;\n",
       "    }\n",
       "</style>\n",
       "<table border=\"1\" class=\"dataframe\">\n",
       "  <thead>\n",
       "    <tr style=\"text-align: right;\">\n",
       "      <th></th>\n",
       "      <th>Y_High_Bid</th>\n",
       "      <th>Y_Low_Ask</th>\n",
       "    </tr>\n",
       "  </thead>\n",
       "  <tbody>\n",
       "    <tr>\n",
       "      <th>35214</th>\n",
       "      <td>22.752</td>\n",
       "      <td>22.771</td>\n",
       "    </tr>\n",
       "    <tr>\n",
       "      <th>35215</th>\n",
       "      <td>22.751</td>\n",
       "      <td>22.775</td>\n",
       "    </tr>\n",
       "    <tr>\n",
       "      <th>35216</th>\n",
       "      <td>22.751</td>\n",
       "      <td>22.776</td>\n",
       "    </tr>\n",
       "    <tr>\n",
       "      <th>35217</th>\n",
       "      <td>22.761</td>\n",
       "      <td>22.774</td>\n",
       "    </tr>\n",
       "    <tr>\n",
       "      <th>35218</th>\n",
       "      <td>22.766</td>\n",
       "      <td>22.786</td>\n",
       "    </tr>\n",
       "  </tbody>\n",
       "</table>\n",
       "</div>"
      ],
      "text/plain": [
       "       Y_High_Bid  Y_Low_Ask\n",
       "35214      22.752     22.771\n",
       "35215      22.751     22.775\n",
       "35216      22.751     22.776\n",
       "35217      22.761     22.774\n",
       "35218      22.766     22.786"
      ]
     },
     "execution_count": 36,
     "metadata": {},
     "output_type": "execute_result"
    }
   ],
   "source": [
    "data_y.tail(5)"
   ]
  },
  {
   "cell_type": "code",
   "execution_count": 37,
   "id": "738ac7a5-bb84-4500-aa78-2a2d5c4d3133",
   "metadata": {},
   "outputs": [],
   "source": [
    "data_X = data_X[:data_y.shape[0]]"
   ]
  },
  {
   "cell_type": "code",
   "execution_count": 38,
   "id": "1d7ba24b-4494-451b-bfe1-7f319e7980c8",
   "metadata": {},
   "outputs": [
    {
     "name": "stdout",
     "output_type": "stream",
     "text": [
      "(35219, 16) (35219, 2)\n"
     ]
    }
   ],
   "source": [
    "print(data_X.shape, data_y.shape)"
   ]
  },
  {
   "cell_type": "markdown",
   "id": "c27fb856-3ee6-4d8d-a35e-5dc55caa2897",
   "metadata": {},
   "source": [
    "Train Test Split"
   ]
  },
  {
   "cell_type": "code",
   "execution_count": 40,
   "id": "27e59508-e97a-457c-9a0e-4221feba4888",
   "metadata": {},
   "outputs": [],
   "source": [
    "X_train, X_test, y_train, y_test = train_test_split(data_X, data_y, test_size=0.1, shuffle=False, stratify=None, random_state=101)"
   ]
  },
  {
   "cell_type": "markdown",
   "id": "f69a41f1-133b-4b5c-9220-0c92a79d9489",
   "metadata": {},
   "source": [
    "### Normalisation"
   ]
  },
  {
   "cell_type": "code",
   "execution_count": 42,
   "id": "988e5c90-e75a-41da-9e80-3898988367dd",
   "metadata": {},
   "outputs": [],
   "source": [
    "volume_scaler = MinMaxScaler()\n",
    "price_scaler = MinMaxScaler()"
   ]
  },
  {
   "cell_type": "code",
   "execution_count": 43,
   "id": "25b6bd20-82f3-4def-add2-9b4bd5e46351",
   "metadata": {},
   "outputs": [],
   "source": [
    "volume_columns = [5, 10]  # Because 'Volume_Bid' and 'Volume_Ask' are at positions 5 and 10\n",
    "# Convert back to DataFrame to apply transformations, then convert back to NumPy arrays\n",
    "X_train_df = pd.DataFrame(X_train)\n",
    "X_test_df = pd.DataFrame(X_test)\n",
    "\n",
    "# Apply transformations on DataFrame columns\n",
    "X_train_df.iloc[:, volume_columns] = volume_scaler.fit_transform(X_train_df.iloc[:, volume_columns])\n",
    "X_test_df.iloc[:, volume_columns] = volume_scaler.transform(X_test_df.iloc[:, volume_columns])\n",
    "\n",
    "# Convert back to NumPy arrays\n",
    "X_train = X_train_df.values\n",
    "X_test = X_test_df.values"
   ]
  },
  {
   "cell_type": "code",
   "execution_count": 44,
   "id": "5347f2a9-999e-47a3-b073-962422da1719",
   "metadata": {},
   "outputs": [],
   "source": [
    "price_columns = list(set(range(X_train.shape[1])) - set(volume_columns))\n",
    "X_train[:, price_columns] = X_train[:, price_columns] / 10\n",
    "X_test[:, price_columns] = X_test[:, price_columns] / 10"
   ]
  },
  {
   "cell_type": "code",
   "execution_count": 45,
   "id": "73b94e37-d38c-46f5-a3f6-5ad0d5bf54b9",
   "metadata": {},
   "outputs": [],
   "source": [
    "y_train = y_train / 10\n",
    "y_test = y_test / 10"
   ]
  },
  {
   "cell_type": "code",
   "execution_count": 46,
   "id": "0bc4dff0-ef45-47f8-9c65-69221a2dc066",
   "metadata": {},
   "outputs": [
    {
     "data": {
      "text/plain": [
       "35220"
      ]
     },
     "execution_count": 46,
     "metadata": {},
     "output_type": "execute_result"
    }
   ],
   "source": [
    "data_length = len(data)\n",
    "data_length"
   ]
  },
  {
   "cell_type": "code",
   "execution_count": 47,
   "id": "739f058d-7d70-4f55-bcbf-6d4d3d452631",
   "metadata": {},
   "outputs": [],
   "source": [
    "#max_price = (train['High_Bid'] + train['High_Delta']).max()\n",
    "#max_price"
   ]
  },
  {
   "cell_type": "code",
   "execution_count": 48,
   "id": "10fa9971-9cec-4139-a196-df97030c3425",
   "metadata": {},
   "outputs": [],
   "source": [
    "#min_price = train['Low_Bid'].min()\n",
    "#min_price"
   ]
  },
  {
   "cell_type": "code",
   "execution_count": 49,
   "id": "ebbfc294-8552-432a-ae61-9dc521036c52",
   "metadata": {},
   "outputs": [],
   "source": [
    "#max_volume = max(max(train['Volume_Bid']), max(train[ 'Volume_Ask']))\n",
    "#max_volume"
   ]
  },
  {
   "cell_type": "code",
   "execution_count": 50,
   "id": "43461df4-3f16-4630-9933-d40346164ac2",
   "metadata": {},
   "outputs": [],
   "source": [
    "#max_Delta = max(max(train[ 'Open_Delta']), max(train['High_Delta']), max(train['Low_Delta']), max(train['Close_Delta']))\n",
    "#max_Delta"
   ]
  },
  {
   "cell_type": "code",
   "execution_count": 51,
   "id": "a69dce2c-8383-4d5d-b426-9ae96d140d67",
   "metadata": {},
   "outputs": [],
   "source": [
    "#max_Delta = round(max_Delta, 3)\n",
    "#max_Delta"
   ]
  },
  {
   "cell_type": "code",
   "execution_count": 52,
   "id": "d2bfc2b6-2184-4d7e-b247-4bcc1167abb0",
   "metadata": {},
   "outputs": [],
   "source": [
    "#min_Delta = min(min(train[ 'Open_Delta']), min(train['High_Delta']), min(train['Low_Delta']), min(train['Close_Delta']))\n",
    "#min_Delta"
   ]
  },
  {
   "cell_type": "code",
   "execution_count": 53,
   "id": "da91af49-d08a-48cf-aa78-c6408b6d9f10",
   "metadata": {},
   "outputs": [],
   "source": [
    "#min_Delta = round(min_Delta, 3)\n",
    "#min_Delta"
   ]
  },
  {
   "cell_type": "code",
   "execution_count": 54,
   "id": "69bbeb83-9a96-4ba9-a381-e8c1247c7339",
   "metadata": {},
   "outputs": [],
   "source": [
    "#max_volume_Delta = train['Volume_Delta'].max()\n",
    "#max_volume_Delta"
   ]
  },
  {
   "cell_type": "code",
   "execution_count": 55,
   "id": "689b0f5b-0e35-4904-b9bd-934322624770",
   "metadata": {},
   "outputs": [],
   "source": [
    "#min_volume_Delta = train[ 'Volume_Delta'].min()\n",
    "#min_volume_Delta"
   ]
  },
  {
   "cell_type": "code",
   "execution_count": 56,
   "id": "19361069-87b2-44e6-9a88-668c8b284910",
   "metadata": {},
   "outputs": [],
   "source": [
    "#max_volume_Delta_abs = train['Volume_Delta_abs'].max()\n",
    "#max_volume_Delta_abs"
   ]
  },
  {
   "cell_type": "code",
   "execution_count": 57,
   "id": "d6098e06-2d6f-4f72-b089-4d6bf2d63e6d",
   "metadata": {},
   "outputs": [],
   "source": [
    "#min_volume_Delta_abs = train['Volume_Delta_abs'].min()\n",
    "#min_volume_Delta_abs"
   ]
  },
  {
   "cell_type": "code",
   "execution_count": 58,
   "id": "a662c3ae-ebb0-408f-a383-eb2dd8652547",
   "metadata": {},
   "outputs": [],
   "source": [
    "#data['Open_Bid'] = ( data['Open_Bid'] - min_price ) / (max_price-min_price)\n",
    "#data['High_Bid']  = ( data['High_Bid']  - min_price ) / (max_price-min_price)\n",
    "#data['Low_Bid']   = ( data['Low_Bid']   - min_price ) / (max_price-min_price)\n",
    "#data['Close_Bid'] = ( data['Close_Bid'] - min_price ) / (max_price-min_price)\n",
    "#data['Y_High_Bid'] = ( data['Y_High_Bid'] - min_price ) / (max_price-min_price)\n",
    "#data['Y_Low_Ask']  = ( data['Y_Low_Ask']  - min_price ) / (max_price-min_price)"
   ]
  },
  {
   "cell_type": "code",
   "execution_count": 59,
   "id": "0ca74967-da22-404f-8ad7-5e46d51921a9",
   "metadata": {},
   "outputs": [],
   "source": [
    "#data['Volume_Ask']  = data['Volume_Ask'] / max_volume\n",
    "#data['Volume_Bid']  = data['Volume_Bid'] / max_volume"
   ]
  },
  {
   "cell_type": "code",
   "execution_count": 60,
   "id": "46f6e92e-5c77-4a79-941d-a86d39d78f47",
   "metadata": {},
   "outputs": [],
   "source": [
    "#data['Volume_Delta'] = ( data['Volume_Delta'] - min_volume_Delta ) / (max_volume_Delta-min_volume_Delta)"
   ]
  },
  {
   "cell_type": "code",
   "execution_count": 61,
   "id": "c724a2ef-bfca-419e-9f3b-dca5c348f104",
   "metadata": {},
   "outputs": [],
   "source": [
    "#data['Volume_Delta_abs']  = data['Volume_Delta_abs'] / max_volume_Delta_abs"
   ]
  },
  {
   "cell_type": "code",
   "execution_count": 62,
   "id": "1d12fe9f-a6e2-46a2-aad3-7ce62fa90a40",
   "metadata": {},
   "outputs": [],
   "source": [
    "#data['Open_Delta']  = ( max_Delta - data['Open_Delta'] )  / (max_Delta-min_Delta)\n",
    "#data['High_Delta']  = ( max_Delta - data['High_Delta'] )  / (max_Delta-min_Delta)\n",
    "#data['Low_Delta']   = ( max_Delta - data['Low_Delta'] )   / (max_Delta-min_Delta)\n",
    "#data['Close_Delta'] = ( max_Delta - data['Close_Delta'] ) / (max_Delta-min_Delta)"
   ]
  },
  {
   "cell_type": "code",
   "execution_count": 63,
   "id": "6e07a7d5-3efb-4b3f-9997-88743ee31478",
   "metadata": {},
   "outputs": [],
   "source": [
    "# Save Normalised Data Set as a new file\n",
    "\n",
    "file_obj1 = open('Silver_ASK_BID_Normalised_Data.csv', 'w')\n",
    "data.to_csv('Silver_ASK_BID_Normalised_Data.csv', encoding='utf-8', index=False)\n",
    "file_obj1.close()"
   ]
  },
  {
   "cell_type": "markdown",
   "id": "2054d32b-3570-4bba-aa87-091cfa6af13a",
   "metadata": {},
   "source": [
    "### Create Numpys"
   ]
  },
  {
   "cell_type": "code",
   "execution_count": 65,
   "id": "be312d39-5e46-4ee7-8599-9046a9a38b62",
   "metadata": {},
   "outputs": [
    {
     "name": "stdout",
     "output_type": "stream",
     "text": [
      "X_train:\n",
      "[[2.4036e+00 2.4059e+00 2.4017e+00 2.4059e+00 3.4800e-02 6.7133e-01\n",
      "  2.4125e+00 2.4083e+00 2.4125e+00 3.5100e-02 1.3318e-01 3.0000e-04\n",
      "  6.6000e-03 6.6000e-03 6.6000e-03 6.6000e-03]\n",
      " [2.4064e+00 2.4130e+00 2.4064e+00 2.4092e+00 1.8458e-01 6.7004e-01\n",
      "  2.4188e+00 2.4094e+00 2.4141e+00 1.1550e-01 1.3129e-01 6.9080e-02\n",
      "  3.0000e-03 5.8000e-03 3.0000e-03 4.9000e-03]]\n",
      "\n",
      "\n",
      "[[2.3674 2.3682 2.3664 2.3677 0.1027 0.6074 2.3712 2.3694 2.3707 0.3179\n",
      "  0.139  0.2152 0.003  0.003  0.003  0.003 ]\n",
      " [2.3679 2.3693 2.3665 2.3693 0.2133 0.6082 2.3723 2.3695 2.3723 0.6202\n",
      "  0.1443 0.4069 0.003  0.003  0.003  0.003 ]]\n",
      "numpy size: =  (31697, 16)\n",
      "type:  float64\n"
     ]
    }
   ],
   "source": [
    "# Create inputs Numpy\n",
    "\n",
    "X_train = np.array(X_train) \n",
    "\n",
    "with np.printoptions(precision=4):\n",
    "    print(\"X_train:\")\n",
    "    print(X_train[:2,:])  \n",
    "    print('\\n')\n",
    "    print(X_train[-2:,:]) \n",
    "\n",
    "print(\"numpy size: = \", X_train.shape)\n",
    "print(\"type: \", X_train.dtype) "
   ]
  },
  {
   "cell_type": "code",
   "execution_count": 66,
   "id": "882d329e-ef3f-48bd-b942-8fdcf00d840c",
   "metadata": {},
   "outputs": [
    {
     "name": "stdout",
     "output_type": "stream",
     "text": [
      "X_test:\n",
      "[[2.3684 2.3688 2.3665 2.3667 0.2076 0.609  2.3718 2.3695 2.3697 0.6526\n",
      "  0.1453 0.445  0.003  0.003  0.003  0.003 ]\n",
      " [2.3672 2.3709 2.3665 2.37   0.6097 0.6071 2.3739 2.3695 2.373  1.8517\n",
      "  0.1671 1.242  0.003  0.003  0.003  0.003 ]]\n",
      "\n",
      "\n",
      "[[2.2751 2.2751 2.2746 2.2746 0.0069 0.4591 2.2781 2.2776 2.2776 0.0421\n",
      "  0.1341 0.0352 0.003  0.003  0.003  0.003 ]\n",
      " [2.2746 2.2761 2.2736 2.2756 0.0216 0.4583 2.2797 2.2774 2.2786 0.0684\n",
      "  0.1344 0.0468 0.003  0.0036 0.0038 0.003 ]]\n",
      "numpy size: =  (3522, 16)\n",
      "type:  float64\n"
     ]
    }
   ],
   "source": [
    "# Create inputs Numpy\n",
    "\n",
    "X_test = np.array(X_test) \n",
    "\n",
    "with np.printoptions(precision=4):\n",
    "    print(\"X_test:\")\n",
    "    print(X_test[:2,:])  \n",
    "    print('\\n')\n",
    "    print(X_test[-2:,:]) \n",
    "\n",
    "print(\"numpy size: = \", X_test.shape)\n",
    "print(\"type: \", X_test.dtype) "
   ]
  },
  {
   "cell_type": "code",
   "execution_count": 67,
   "id": "3424bdb4-fca0-4816-9aa4-08deb1a1521e",
   "metadata": {},
   "outputs": [
    {
     "name": "stdout",
     "output_type": "stream",
     "text": [
      "y_train:\n",
      "[[2.413  2.4094]\n",
      " [2.4098 2.4022]\n",
      " [2.398  2.3986]]\n",
      "\n",
      "\n",
      "[[2.3682 2.3694]\n",
      " [2.3693 2.3695]\n",
      " [2.3688 2.3695]]\n",
      "numpy size: =  (31697, 2)\n",
      "type:  float64\n"
     ]
    }
   ],
   "source": [
    "# Create outputs Numpy\n",
    "\n",
    "y_train = np.array(y_train) \n",
    "\n",
    "print(\"y_train:\")\n",
    "print(y_train[:3,:])  \n",
    "print('\\n')\n",
    "print(y_train[-3:,:]) \n",
    "\n",
    "print(\"numpy size: = \", y_train.shape)\n",
    "print(\"type: \", y_train.dtype) "
   ]
  },
  {
   "cell_type": "code",
   "execution_count": 68,
   "id": "bfd1b723-1c64-457d-a17f-ae9b1cc4a49f",
   "metadata": {},
   "outputs": [
    {
     "name": "stdout",
     "output_type": "stream",
     "text": [
      "y_test:\n",
      "[[2.3709 2.3695]\n",
      " [2.371  2.3718]\n",
      " [2.3723 2.3726]]\n",
      "\n",
      "\n",
      "[[2.2751 2.2776]\n",
      " [2.2761 2.2774]\n",
      " [2.2766 2.2786]]\n",
      "numpy size: =  (3522, 2)\n",
      "type:  float64\n"
     ]
    }
   ],
   "source": [
    "# Create outputs Numpy\n",
    "\n",
    "y_test = np.array(y_test) \n",
    "\n",
    "print(\"y_test:\")\n",
    "print(y_test[:3,:])  \n",
    "print('\\n')\n",
    "print(y_test[-3:,:]) \n",
    "\n",
    "print(\"numpy size: = \", y_test.shape)\n",
    "print(\"type: \", y_test.dtype) "
   ]
  },
  {
   "cell_type": "markdown",
   "id": "31cd03d8-981f-492c-93af-bfaec31bbc20",
   "metadata": {},
   "source": [
    "### Create 3D Tensor"
   ]
  },
  {
   "cell_type": "markdown",
   "id": "eae2ed63-6292-4557-b8fb-38612b3b5134",
   "metadata": {},
   "source": [
    "#### 3D Tensor is being created but cannot be used with MLP as is it only accepts a 2D input."
   ]
  },
  {
   "cell_type": "code",
   "execution_count": 71,
   "id": "475ebef9-2e54-439d-8ebf-ea16567f9d32",
   "metadata": {},
   "outputs": [],
   "source": [
    "from tqdm import tqdm"
   ]
  },
  {
   "cell_type": "code",
   "execution_count": 72,
   "id": "145253a0-d8af-4b07-85dd-5f95df452123",
   "metadata": {},
   "outputs": [
    {
     "name": "stdout",
     "output_type": "stream",
     "text": [
      "Size of a X_train three-dimensional inputs tensor:  31647 50 16\n",
      "Size of a X_test three-dimensional inputs tensor:  3472 50 16\n"
     ]
    }
   ],
   "source": [
    "n = data_X.shape[0]\n",
    "t=data_X.shape[1]\n",
    "N=50\n",
    "\n",
    "L_train = X_train.shape[0] - N\n",
    "L_test = X_test.shape[0] - N\n",
    "\n",
    "print('Size of a X_train three-dimensional inputs tensor: ',L_train,N,t)\n",
    "print('Size of a X_test three-dimensional inputs tensor: ',L_test,N,t)"
   ]
  },
  {
   "cell_type": "code",
   "execution_count": 73,
   "id": "08f92874-364c-488e-993a-153cdcb4d138",
   "metadata": {},
   "outputs": [],
   "source": [
    "# create inputs zeros 3D tensors with 'float32'\n",
    "\n",
    "X_train_3d = np.zeros((L_train, N, t))  # Shape (L_train, N, t)\n",
    "X_test_3d = np.zeros((L_test, N, t))    # Shape (L_test, N, t)"
   ]
  },
  {
   "cell_type": "code",
   "execution_count": 74,
   "id": "605aa853-8240-4dcd-8874-8f81b4ea0d3f",
   "metadata": {},
   "outputs": [],
   "source": [
    "# create a two-dimensional zeros vector of answers - normalised the High_Bid and Low_Ask prices DURING next 5 minutes\n",
    "\n",
    "y_train_2d = np.zeros((L_train, 2))    # For 'High_Bid' and 'Low_Ask'\n",
    "y_test_2d = np.zeros((L_test, 2))"
   ]
  },
  {
   "cell_type": "code",
   "execution_count": 75,
   "id": "1b2f8e01-9aa6-4e1b-82e3-f3d3582f5076",
   "metadata": {},
   "outputs": [
    {
     "name": "stderr",
     "output_type": "stream",
     "text": [
      "100%|██████████| 31647/31647 [00:00<00:00, 286286.13it/s]\n"
     ]
    }
   ],
   "source": [
    "# Populate the 3D tensors and target arrays for training data\n",
    "for k in tqdm(range(L_train)):\n",
    "    X_train_3d[k] = X_train[k:k+N]\n",
    "    y_train_2d[k] = y_train[k+N-1]  # Target is at the end of the sequence"
   ]
  },
  {
   "cell_type": "code",
   "execution_count": 76,
   "id": "a7174821-47d9-47c5-bbe3-3e77eccbe60b",
   "metadata": {},
   "outputs": [
    {
     "name": "stderr",
     "output_type": "stream",
     "text": [
      "100%|██████████| 3472/3472 [00:00<00:00, 231501.84it/s]\n"
     ]
    }
   ],
   "source": [
    "# Populate the 3D tensors and target arrays for testing data\n",
    "for k in tqdm(range(L_test)):\n",
    "    X_test_3d[k] = X_test[k:k+N]\n",
    "    y_test_2d[k] = y_test[k+N-1]"
   ]
  },
  {
   "cell_type": "code",
   "execution_count": 77,
   "id": "49c6b9c2-af7f-45db-af8b-2cd70b74c907",
   "metadata": {},
   "outputs": [
    {
     "name": "stdout",
     "output_type": "stream",
     "text": [
      "X_train_3d shape: (31647, 50, 16)\n",
      "y_train_2d shape: (31647, 2)\n",
      "X_test_3d shape: (3472, 50, 16)\n",
      "y_test_2d shape: (3472, 2)\n"
     ]
    }
   ],
   "source": [
    "# Display the shapes and sample data for verification\n",
    "print(\"X_train_3d shape:\", X_train_3d.shape)\n",
    "print(\"y_train_2d shape:\", y_train_2d.shape)\n",
    "print(\"X_test_3d shape:\", X_test_3d.shape)\n",
    "print(\"y_test_2d shape:\", y_test_2d.shape)"
   ]
  },
  {
   "cell_type": "code",
   "execution_count": 79,
   "id": "f2dded26-02ce-45ab-b3b6-fa18b50f3fdb",
   "metadata": {},
   "outputs": [
    {
     "name": "stdout",
     "output_type": "stream",
     "text": [
      "\n",
      "Sample X_train_3d (first sequence):\n",
      " [[2.4036e+00 2.4059e+00 2.4017e+00 2.4059e+00 3.4800e-02 6.7133e-01\n",
      "  2.4125e+00 2.4083e+00 2.4125e+00 3.5100e-02 1.3318e-01 3.0000e-04\n",
      "  6.6000e-03 6.6000e-03 6.6000e-03 6.6000e-03]\n",
      " [2.4064e+00 2.4130e+00 2.4064e+00 2.4092e+00 1.8458e-01 6.7004e-01\n",
      "  2.4188e+00 2.4094e+00 2.4141e+00 1.1550e-01 1.3129e-01 6.9080e-02\n",
      "  3.0000e-03 5.8000e-03 3.0000e-03 4.9000e-03]\n",
      " [2.4094e+00 2.4098e+00 2.3972e+00 2.3977e+00 9.0300e-02 6.7791e-01\n",
      "  2.4148e+00 2.4022e+00 2.4027e+00 8.8200e-02 1.3311e-01 2.1000e-03\n",
      "  4.9000e-03 5.0000e-03 5.0000e-03 5.0000e-03]\n",
      " [2.3977e+00 2.3980e+00 2.3938e+00 2.3980e+00 8.9400e-02 6.5912e-01\n",
      "  2.4028e+00 2.3986e+00 2.4028e+00 8.9400e-02 1.3317e-01 0.0000e+00\n",
      "  4.9000e-03 4.8000e-03 4.8000e-03 4.8000e-03]\n",
      " [2.3978e+00 2.4024e+00 2.3976e+00 2.4023e+00 8.8800e-02 6.5912e-01\n",
      "  2.4073e+00 2.4023e+00 2.4073e+00 9.0440e-02 1.3322e-01 1.6400e-03\n",
      "  4.8000e-03 4.9000e-03 4.7000e-03 5.0000e-03]\n",
      " [2.4026e+00 2.4061e+00 2.4026e+00 2.4058e+00 7.6200e-02 6.6699e-01\n",
      "  2.4105e+00 2.4073e+00 2.4090e+00 7.4700e-02 1.3313e-01 1.5000e-03\n",
      "  4.9000e-03 4.4000e-03 4.7000e-03 3.2000e-03]\n",
      " [2.4061e+00 2.4101e+00 2.4046e+00 2.4086e+00 1.2420e-01 6.6956e-01\n",
      "  2.4138e+00 2.4090e+00 2.4120e+00 1.4448e-01 1.3373e-01 2.0280e-02\n",
      "  3.0000e-03 3.7000e-03 4.4000e-03 3.4000e-03]\n",
      " [2.4091e+00 2.4091e+00 2.4019e+00 2.4042e+00 1.3522e-01 6.7502e-01\n",
      "  2.4125e+00 2.4062e+00 2.4072e+00 1.8280e-01 1.3447e-01 4.7580e-02\n",
      "  3.4000e-03 3.4000e-03 4.3000e-03 3.0000e-03]\n",
      " [2.4042e+00 2.4072e+00 2.4042e+00 2.4064e+00 2.3625e-01 6.6651e-01\n",
      "  2.4102e+00 2.4072e+00 2.4094e+00 3.0014e-01 1.3492e-01 6.3890e-02\n",
      "  3.0000e-03 3.0000e-03 3.0000e-03 3.0000e-03]\n",
      " [2.4063e+00 2.4068e+00 2.4048e+00 2.4067e+00 1.8962e-01 6.6988e-01\n",
      "  2.4098e+00 2.4078e+00 2.4097e+00 2.2160e-01 1.3404e-01 3.1980e-02\n",
      "  3.0000e-03 3.0000e-03 3.0000e-03 3.0000e-03]\n",
      " [2.4067e+00 2.4076e+00 2.4053e+00 2.4066e+00 2.5266e-01 6.7052e-01\n",
      "  2.4106e+00 2.4083e+00 2.4096e+00 3.0062e-01 1.3448e-01 4.7960e-02\n",
      "  3.0000e-03 3.0000e-03 3.0000e-03 3.0000e-03]\n",
      " [2.4062e+00 2.4092e+00 2.4057e+00 2.4090e+00 3.6460e-01 6.6972e-01\n",
      "  2.4122e+00 2.4087e+00 2.4120e+00 4.2256e-01 1.3475e-01 5.7960e-02\n",
      "  3.0000e-03 3.0000e-03 3.0000e-03 3.0000e-03]\n",
      " [2.4091e+00 2.4093e+00 2.4046e+00 2.4058e+00 3.6924e-01 6.7438e-01\n",
      "  2.4123e+00 2.4076e+00 2.4088e+00 7.5490e-01 1.4370e-01 3.8566e-01\n",
      "  3.0000e-03 3.0000e-03 3.0000e-03 3.0000e-03]\n",
      " [2.4059e+00 2.4084e+00 2.4051e+00 2.4078e+00 2.1968e-01 6.6924e-01\n",
      "  2.4114e+00 2.4081e+00 2.4108e+00 4.9442e-01 1.4067e-01 2.7474e-01\n",
      "  3.0000e-03 3.0000e-03 3.0000e-03 3.0000e-03]\n",
      " [2.4079e+00 2.4136e+00 2.4078e+00 2.4125e+00 5.4190e-01 6.7245e-01\n",
      "  2.4166e+00 2.4108e+00 2.4155e+00 1.1828e+00 1.5066e-01 6.4086e-01\n",
      "  3.0000e-03 3.0000e-03 3.0000e-03 3.0000e-03]\n",
      " [2.4129e+00 2.4154e+00 2.4070e+00 2.4109e+00 7.8218e-01 6.8048e-01\n",
      "  2.4179e+00 2.4100e+00 2.4139e+00 1.6123e+00 1.5583e-01 8.3014e-01\n",
      "  3.0000e-03 2.5000e-03 3.0000e-03 3.0000e-03]\n",
      " [2.4108e+00 2.4124e+00 2.4070e+00 2.4075e+00 5.6327e-01 6.7711e-01\n",
      "  2.4154e+00 2.4100e+00 2.4105e+00 1.2278e+00 1.5131e-01 6.6455e-01\n",
      "  3.0000e-03 3.0000e-03 3.0000e-03 3.0000e-03]\n",
      " [2.4074e+00 2.4097e+00 2.4051e+00 2.4074e+00 5.0152e-01 6.7165e-01\n",
      "  2.4127e+00 2.4081e+00 2.4104e+00 1.8990e+00 1.7131e-01 1.3975e+00\n",
      "  3.0000e-03 3.0000e-03 3.0000e-03 3.0000e-03]\n",
      " [2.4075e+00 2.4090e+00 2.4053e+00 2.4060e+00 4.1846e-01 6.7181e-01\n",
      "  2.4120e+00 2.4083e+00 2.4090e+00 9.7294e-01 1.4831e-01 5.5448e-01\n",
      "  3.0000e-03 3.0000e-03 3.0000e-03 3.0000e-03]\n",
      " [2.4061e+00 2.4070e+00 2.4052e+00 2.4052e+00 3.4196e-01 6.6956e-01\n",
      "  2.4100e+00 2.4082e+00 2.4082e+00 6.2452e-01 1.4088e-01 2.8256e-01\n",
      "  3.0000e-03 3.0000e-03 3.0000e-03 3.0000e-03]\n",
      " [2.4050e+00 2.4060e+00 2.4047e+00 2.4050e+00 2.1064e-01 6.6779e-01\n",
      "  2.4090e+00 2.4077e+00 2.4080e+00 3.4152e-01 1.3674e-01 1.3088e-01\n",
      "  3.0000e-03 3.0000e-03 3.0000e-03 3.0000e-03]\n",
      " [2.4048e+00 2.4071e+00 2.4046e+00 2.4066e+00 2.2698e-01 6.6747e-01\n",
      "  2.4101e+00 2.4076e+00 2.4096e+00 6.2688e-01 1.4409e-01 3.9990e-01\n",
      "  3.0000e-03 3.0000e-03 3.0000e-03 3.0000e-03]\n",
      " [2.4066e+00 2.4070e+00 2.4053e+00 2.4056e+00 2.9962e-01 6.7036e-01\n",
      "  2.4100e+00 2.4083e+00 2.4086e+00 6.5950e-01 1.4299e-01 3.5988e-01\n",
      "  3.0000e-03 3.0000e-03 3.0000e-03 3.0000e-03]\n",
      " [2.4056e+00 2.4094e+00 2.4043e+00 2.4085e+00 3.6862e-01 6.6876e-01\n",
      "  2.4124e+00 2.4073e+00 2.4115e+00 9.2826e-01 1.4845e-01 5.5964e-01\n",
      "  3.0000e-03 3.0000e-03 3.0000e-03 3.0000e-03]\n",
      " [2.4085e+00 2.4169e+00 2.4046e+00 2.4060e+00 1.8936e+00 6.7341e-01\n",
      "  2.4199e+00 2.4077e+00 2.4090e+00 3.6301e+00 1.8057e-01 1.7365e+00\n",
      "  3.0000e-03 3.0000e-03 3.1000e-03 3.0000e-03]\n",
      " [2.4055e+00 2.4055e+00 2.4009e+00 2.4021e+00 1.0189e+00 6.6859e-01\n",
      "  2.4085e+00 2.4039e+00 2.4051e+00 3.3674e+00 1.9727e-01 2.3485e+00\n",
      "  3.0000e-03 3.0000e-03 3.0000e-03 3.0000e-03]\n",
      " [2.4021e+00 2.4025e+00 2.3930e+00 2.3978e+00 1.0773e+00 6.6313e-01\n",
      "  2.4055e+00 2.3960e+00 2.4008e+00 4.5585e+00 2.2819e-01 3.4813e+00\n",
      "  3.0000e-03 3.0000e-03 3.0000e-03 3.0000e-03]\n",
      " [2.3978e+00 2.4011e+00 2.3955e+00 2.3962e+00 8.7428e-01 6.5622e-01\n",
      "  2.4041e+00 2.3985e+00 2.3992e+00 3.3712e+00 2.0132e-01 2.4969e+00\n",
      "  3.0000e-03 3.0000e-03 3.0000e-03 3.0000e-03]\n",
      " [2.3960e+00 2.3960e+00 2.3875e+00 2.3883e+00 9.7546e-01 6.5333e-01\n",
      "  2.3990e+00 2.3905e+00 2.3913e+00 2.9612e+00 1.8737e-01 1.9857e+00\n",
      "  3.0000e-03 3.0000e-03 3.0000e-03 3.0000e-03]\n",
      " [2.3883e+00 2.3935e+00 2.3871e+00 2.3925e+00 8.4986e-01 6.4096e-01\n",
      "  2.3965e+00 2.3901e+00 2.3955e+00 3.4274e+00 2.0352e-01 2.5775e+00\n",
      "  3.0000e-03 3.0000e-03 3.0000e-03 3.0000e-03]\n",
      " [2.3916e+00 2.4007e+00 2.3902e+00 2.3987e+00 1.1545e+00 6.4627e-01\n",
      "  2.4037e+00 2.3932e+00 2.4017e+00 5.0482e+00 2.3945e-01 3.8937e+00\n",
      "  3.0000e-03 3.0000e-03 3.0000e-03 3.0000e-03]\n",
      " [2.3990e+00 2.3990e+00 2.3934e+00 2.3941e+00 7.8308e-01 6.5815e-01\n",
      "  2.4020e+00 2.3964e+00 2.3971e+00 2.9554e+00 1.9246e-01 2.1723e+00\n",
      "  3.0000e-03 3.0000e-03 3.0000e-03 3.0000e-03]\n",
      " [2.3940e+00 2.3942e+00 2.3885e+00 2.3925e+00 8.5973e-01 6.5012e-01\n",
      "  2.3972e+00 2.3915e+00 2.3955e+00 3.7232e+00 2.1133e-01 2.8634e+00\n",
      "  3.0000e-03 3.0000e-03 3.0000e-03 3.0000e-03]\n",
      " [2.3926e+00 2.3932e+00 2.3888e+00 2.3905e+00 6.0334e-01 6.4787e-01\n",
      "  2.3962e+00 2.3918e+00 2.3935e+00 2.3139e+00 1.7986e-01 1.7106e+00\n",
      "  3.0000e-03 3.0000e-03 3.0000e-03 3.0000e-03]\n",
      " [2.3900e+00 2.3981e+00 2.3900e+00 2.3979e+00 6.2106e-01 6.4369e-01\n",
      "  2.4011e+00 2.3930e+00 2.4009e+00 2.4891e+00 1.8416e-01 1.8681e+00\n",
      "  3.0000e-03 3.0000e-03 3.0000e-03 3.0000e-03]\n",
      " [2.3980e+00 2.4000e+00 2.3946e+00 2.3995e+00 7.5648e-01 6.5655e-01\n",
      "  2.4030e+00 2.3976e+00 2.4025e+00 2.1388e+00 1.7090e-01 1.3823e+00\n",
      "  3.0000e-03 3.0000e-03 3.0000e-03 3.0000e-03]\n",
      " [2.3998e+00 2.4028e+00 2.3973e+00 2.4025e+00 7.9962e-01 6.5944e-01\n",
      "  2.4058e+00 2.4003e+00 2.4055e+00 1.7557e+00 1.5927e-01 9.5608e-01\n",
      "  3.0000e-03 3.0000e-03 3.0000e-03 3.0000e-03]\n",
      " [2.4026e+00 2.4077e+00 2.4026e+00 2.4068e+00 7.4256e-01 6.6394e-01\n",
      "  2.4107e+00 2.4056e+00 2.4098e+00 2.2050e+00 1.7309e-01 1.4625e+00\n",
      "  3.0000e-03 3.0000e-03 3.0000e-03 3.0000e-03]\n",
      " [2.4071e+00 2.4077e+00 2.4028e+00 2.4035e+00 5.6714e-01 6.7116e-01\n",
      "  2.4107e+00 2.4058e+00 2.4065e+00 2.0324e+00 1.7317e-01 1.4653e+00\n",
      "  3.0000e-03 3.0000e-03 3.0000e-03 3.0000e-03]\n",
      " [2.4031e+00 2.4037e+00 2.4007e+00 2.4025e+00 4.4214e-01 6.6474e-01\n",
      "  2.4067e+00 2.4037e+00 2.4055e+00 1.7251e+00 1.6819e-01 1.2830e+00\n",
      "  3.0000e-03 3.0000e-03 3.0000e-03 3.0000e-03]\n",
      " [2.4029e+00 2.4064e+00 2.4024e+00 2.4057e+00 3.4760e-01 6.6442e-01\n",
      "  2.4094e+00 2.4054e+00 2.4087e+00 1.2386e+00 1.5749e-01 8.9098e-01\n",
      "  3.0000e-03 3.0000e-03 3.0000e-03 3.0000e-03]\n",
      " [2.4060e+00 2.4080e+00 2.4057e+00 2.4068e+00 5.5438e-01 6.6940e-01\n",
      "  2.4110e+00 2.4087e+00 2.4098e+00 1.7934e+00 1.6699e-01 1.2390e+00\n",
      "  3.0000e-03 3.0000e-03 3.0000e-03 3.0000e-03]\n",
      " [2.4068e+00 2.4124e+00 2.4060e+00 2.4109e+00 7.8954e-01 6.7068e-01\n",
      "  2.4154e+00 2.4090e+00 2.4139e+00 2.7827e+00 1.8758e-01 1.9932e+00\n",
      "  3.0000e-03 3.0000e-03 3.0000e-03 3.0000e-03]\n",
      " [2.4108e+00 2.4119e+00 2.4083e+00 2.4116e+00 6.6968e-01 6.7711e-01\n",
      "  2.4149e+00 2.4113e+00 2.4146e+00 2.2965e+00 1.7758e-01 1.6268e+00\n",
      "  3.0000e-03 3.0000e-03 3.0000e-03 3.0000e-03]\n",
      " [2.4117e+00 2.4203e+00 2.4107e+00 2.4203e+00 1.1849e+00 6.7855e-01\n",
      "  2.4233e+00 2.4137e+00 2.4233e+00 3.1260e+00 1.8616e-01 1.9412e+00\n",
      "  3.0000e-03 3.0000e-03 3.0000e-03 3.0000e-03]\n",
      " [2.4204e+00 2.4213e+00 2.4167e+00 2.4205e+00 1.2164e+00 6.9253e-01\n",
      "  2.4243e+00 2.4197e+00 2.4235e+00 2.3558e+00 1.6427e-01 1.1394e+00\n",
      "  3.0000e-03 3.0000e-03 3.0000e-03 3.0000e-03]\n",
      " [2.4206e+00 2.4243e+00 2.4203e+00 2.4218e+00 9.0856e-01 6.9285e-01\n",
      "  2.4273e+00 2.4233e+00 2.4248e+00 2.7263e+00 1.8279e-01 1.8177e+00\n",
      "  3.0000e-03 3.0000e-03 3.0000e-03 3.0000e-03]\n",
      " [2.4218e+00 2.4251e+00 2.4212e+00 2.4232e+00 9.2166e-01 6.9478e-01\n",
      "  2.4281e+00 2.4242e+00 2.4262e+00 1.8981e+00 1.5982e-01 9.7646e-01\n",
      "  3.0000e-03 3.0000e-03 3.0000e-03 3.0000e-03]\n",
      " [2.4234e+00 2.4255e+00 2.4220e+00 2.4243e+00 9.6888e-01 6.9735e-01\n",
      "  2.4281e+00 2.4250e+00 2.4273e+00 1.9458e+00 1.5984e-01 9.7690e-01\n",
      "  3.0000e-03 2.6000e-03 3.0000e-03 3.0000e-03]\n",
      " [2.4244e+00 2.4350e+00 2.4237e+00 2.4340e+00 1.2137e+00 6.9896e-01\n",
      "  2.4380e+00 2.4267e+00 2.4370e+00 2.5367e+00 1.6928e-01 1.3231e+00\n",
      "  3.0000e-03 3.0000e-03 3.0000e-03 3.0000e-03]]\n"
     ]
    },
    {
     "ename": "NameError",
     "evalue": "name 'y_train_seq' is not defined",
     "output_type": "error",
     "traceback": [
      "\u001b[1;31m---------------------------------------------------------------------------\u001b[0m",
      "\u001b[1;31mNameError\u001b[0m                                 Traceback (most recent call last)",
      "Cell \u001b[1;32mIn[79], line 4\u001b[0m\n\u001b[0;32m      2\u001b[0m \u001b[38;5;28;01mwith\u001b[39;00m np\u001b[38;5;241m.\u001b[39mprintoptions(precision\u001b[38;5;241m=\u001b[39m\u001b[38;5;241m4\u001b[39m):\n\u001b[0;32m      3\u001b[0m     \u001b[38;5;28mprint\u001b[39m(\u001b[38;5;124m\"\u001b[39m\u001b[38;5;130;01m\\n\u001b[39;00m\u001b[38;5;124mSample X_train_3d (first sequence):\u001b[39m\u001b[38;5;130;01m\\n\u001b[39;00m\u001b[38;5;124m\"\u001b[39m, X_train_3d[\u001b[38;5;241m0\u001b[39m])\n\u001b[1;32m----> 4\u001b[0m     \u001b[38;5;28mprint\u001b[39m(\u001b[38;5;124m\"\u001b[39m\u001b[38;5;130;01m\\n\u001b[39;00m\u001b[38;5;124mSample y_train_2d (first 5 targets):\u001b[39m\u001b[38;5;130;01m\\n\u001b[39;00m\u001b[38;5;124m\"\u001b[39m, y_train_seq[:\u001b[38;5;241m5\u001b[39m])\n\u001b[0;32m      5\u001b[0m     \u001b[38;5;28mprint\u001b[39m(\u001b[38;5;124m\"\u001b[39m\u001b[38;5;130;01m\\n\u001b[39;00m\u001b[38;5;124mSample X_test_3d (first sequence):\u001b[39m\u001b[38;5;130;01m\\n\u001b[39;00m\u001b[38;5;124m\"\u001b[39m, X_test_3d[\u001b[38;5;241m0\u001b[39m])\n\u001b[0;32m      6\u001b[0m     \u001b[38;5;28mprint\u001b[39m(\u001b[38;5;124m\"\u001b[39m\u001b[38;5;130;01m\\n\u001b[39;00m\u001b[38;5;124mSample y_test_2d (first 5 targets):\u001b[39m\u001b[38;5;130;01m\\n\u001b[39;00m\u001b[38;5;124m\"\u001b[39m, y_test_seq[:\u001b[38;5;241m5\u001b[39m])\n",
      "\u001b[1;31mNameError\u001b[0m: name 'y_train_seq' is not defined"
     ]
    }
   ],
   "source": [
    "# Print sample data for inspection\n",
    "with np.printoptions(precision=4):\n",
    "    print(\"\\nSample X_train_3d (first sequence):\\n\", X_train_3d[0])\n",
    "    print(\"\\nSample y_train_2d (first 5 targets):\\n\", y_train_seq[:5])\n",
    "    print(\"\\nSample X_test_3d (first sequence):\\n\", X_test_3d[0])\n",
    "    print(\"\\nSample y_test_2d (first 5 targets):\\n\", y_test_seq[:5])"
   ]
  }
 ],
 "metadata": {
  "kernelspec": {
   "display_name": "Python 3 (ipykernel)",
   "language": "python",
   "name": "python3"
  },
  "language_info": {
   "codemirror_mode": {
    "name": "ipython",
    "version": 3
   },
   "file_extension": ".py",
   "mimetype": "text/x-python",
   "name": "python",
   "nbconvert_exporter": "python",
   "pygments_lexer": "ipython3",
   "version": "3.12.4"
  }
 },
 "nbformat": 4,
 "nbformat_minor": 5
}
