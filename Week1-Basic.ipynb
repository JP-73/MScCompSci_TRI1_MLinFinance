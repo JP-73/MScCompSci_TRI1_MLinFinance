{
 "cells": [
  {
   "cell_type": "code",
   "execution_count": 1,
   "id": "5c720c1e-72ca-4eca-8d2d-bc83fedea322",
   "metadata": {},
   "outputs": [],
   "source": [
    "import numpy as np"
   ]
  },
  {
   "cell_type": "code",
   "execution_count": 2,
   "id": "baea0ea1-514a-4a3a-bf42-9f112b2a3a9b",
   "metadata": {},
   "outputs": [],
   "source": [
    "#Create Student ID Variable\n",
    "sid = \"1012767\""
   ]
  },
  {
   "cell_type": "code",
   "execution_count": 3,
   "id": "253f523a-228f-4f26-9230-ae052a166d0b",
   "metadata": {},
   "outputs": [],
   "source": [
    "#Create value by removing everything except the last 2 characters\n",
    "val = int(sid[-2:])"
   ]
  },
  {
   "cell_type": "code",
   "execution_count": 4,
   "id": "4a9c4409-3257-48d5-9d8c-01f2e908d796",
   "metadata": {},
   "outputs": [],
   "source": [
    "#This isn't really needed in this version\n",
    "if val < 10:\n",
    "    val = val + 100"
   ]
  },
  {
   "cell_type": "code",
   "execution_count": 5,
   "id": "419e45ee-d8a3-4cea-bcd3-69f50ef4964c",
   "metadata": {},
   "outputs": [
    {
     "name": "stdout",
     "output_type": "stream",
     "text": [
      "67\n"
     ]
    }
   ],
   "source": [
    "print(val)"
   ]
  },
  {
   "cell_type": "code",
   "execution_count": 6,
   "id": "5e2c3ce3-2597-4c2c-825a-4c7b70cc371b",
   "metadata": {},
   "outputs": [],
   "source": [
    "#Create array a using np.arange and the create value\n",
    "a = np.arange(val)"
   ]
  },
  {
   "cell_type": "code",
   "execution_count": 7,
   "id": "28882093-6239-4c92-a8fe-cc368a0e15bc",
   "metadata": {},
   "outputs": [
    {
     "data": {
      "text/plain": [
       "(67,)"
      ]
     },
     "execution_count": 7,
     "metadata": {},
     "output_type": "execute_result"
    }
   ],
   "source": [
    "#Check shape of array a - should be e.g.:(67,)\n",
    "a.shape"
   ]
  },
  {
   "cell_type": "code",
   "execution_count": 8,
   "id": "d77d5551-25b6-45c8-a8ca-e01137f36a83",
   "metadata": {},
   "outputs": [
    {
     "name": "stdout",
     "output_type": "stream",
     "text": [
      "[ 0  1  2  3  4  5  6  7  8  9 10 11 12 13 14 15 16 17 18 19 20 21 22 23\n",
      " 24 25 26 27 28 29 30 31 32 33 34 35 36 37 38 39 40 41 42 43 44 45 46 47\n",
      " 48 49 50 51 52 53 54 55 56 57 58 59 60 61 62 63 64 65 66]\n"
     ]
    }
   ],
   "source": [
    "print(a)"
   ]
  },
  {
   "cell_type": "code",
   "execution_count": 9,
   "id": "82b62d1a-77a4-47e6-aa70-6caaa0adc484",
   "metadata": {},
   "outputs": [],
   "source": [
    "#Convert from 1D Array to 2D Array with 1 Row - Also saves to new variable a2\n",
    "a2 = a[np.newaxis, :]"
   ]
  },
  {
   "cell_type": "code",
   "execution_count": 10,
   "id": "e6a1ad3b-ab73-4ce6-b04f-db950705b3a4",
   "metadata": {},
   "outputs": [
    {
     "name": "stdout",
     "output_type": "stream",
     "text": [
      "[[ 0  1  2  3  4  5  6  7  8  9 10 11 12 13 14 15 16 17 18 19 20 21 22 23\n",
      "  24 25 26 27 28 29 30 31 32 33 34 35 36 37 38 39 40 41 42 43 44 45 46 47\n",
      "  48 49 50 51 52 53 54 55 56 57 58 59 60 61 62 63 64 65 66]]\n"
     ]
    }
   ],
   "source": [
    "print(a2)"
   ]
  },
  {
   "cell_type": "code",
   "execution_count": 11,
   "id": "d3d64229-a1ce-45c2-9c8d-43d900928c42",
   "metadata": {},
   "outputs": [
    {
     "data": {
      "text/plain": [
       "(1, 67)"
      ]
     },
     "execution_count": 11,
     "metadata": {},
     "output_type": "execute_result"
    }
   ],
   "source": [
    "#Check shape of array a - should be e.g.:(1, 67)\n",
    "a2.shape"
   ]
  },
  {
   "cell_type": "code",
   "execution_count": 12,
   "id": "d7909747-e391-4611-a50a-be33de7843ec",
   "metadata": {},
   "outputs": [],
   "source": [
    "#Save a2 to a3\n",
    "a3 = a2"
   ]
  },
  {
   "cell_type": "code",
   "execution_count": 13,
   "id": "0c93c18b-924f-42f5-a9e1-60fed1b04e8c",
   "metadata": {},
   "outputs": [
    {
     "name": "stdout",
     "output_type": "stream",
     "text": [
      "[[ 0  1  2  3  4  5  6  7  8  9 10 11 12 13 14 15 16 17 18 19 20 21 22 23\n",
      "  24 25 26 27 28 29 30 31 32 33 34 35 36 37 38 39 40 41 42 43 44 45 46 47\n",
      "  48 49 50 51 52 53 54 55 56 57 58 59 60 61 62 63 64 65 66]]\n"
     ]
    }
   ],
   "source": [
    "print(a3)"
   ]
  },
  {
   "cell_type": "code",
   "execution_count": 14,
   "id": "8db9855b-a3fe-4780-96ae-8e0e7007c215",
   "metadata": {},
   "outputs": [
    {
     "data": {
      "text/plain": [
       "(1, 67)"
      ]
     },
     "execution_count": 14,
     "metadata": {},
     "output_type": "execute_result"
    }
   ],
   "source": [
    "#Check shape of array again\n",
    "a3.shape"
   ]
  }
 ],
 "metadata": {
  "kernelspec": {
   "display_name": "Python 3 (ipykernel)",
   "language": "python",
   "name": "python3"
  },
  "language_info": {
   "codemirror_mode": {
    "name": "ipython",
    "version": 3
   },
   "file_extension": ".py",
   "mimetype": "text/x-python",
   "name": "python",
   "nbconvert_exporter": "python",
   "pygments_lexer": "ipython3",
   "version": "3.12.5"
  }
 },
 "nbformat": 4,
 "nbformat_minor": 5
}
