{
 "cells": [
  {
   "cell_type": "code",
   "execution_count": 1,
   "id": "5252e7f4-6bcc-4199-8ec4-0684e246fedf",
   "metadata": {},
   "outputs": [],
   "source": [
    "import pandas as pd"
   ]
  },
  {
   "cell_type": "markdown",
   "id": "6dae4a62-512f-4f5e-8b18-91ebf9b1f174",
   "metadata": {},
   "source": [
    "Use SID to determing value of n as per instructions"
   ]
  },
  {
   "cell_type": "code",
   "execution_count": 2,
   "id": "96e99294-3364-49a0-bc31-a4187e82e8e2",
   "metadata": {},
   "outputs": [],
   "source": [
    "n = 7 #SID is 1012767"
   ]
  },
  {
   "cell_type": "markdown",
   "id": "b6eda3f3-1799-4207-901b-73946d8b9e69",
   "metadata": {},
   "source": [
    "Read adult_data_mini.csv file"
   ]
  },
  {
   "cell_type": "code",
   "execution_count": 3,
   "id": "afd82c94-9a37-450f-bcde-6f9385597524",
   "metadata": {},
   "outputs": [],
   "source": [
    "data = pd.read_csv('adult_data_mini.csv', header = 0)"
   ]
  },
  {
   "cell_type": "markdown",
   "id": "d32cfd32-2248-4410-b42c-6f9b1a2b9762",
   "metadata": {},
   "source": [
    "Group by Relationship & Hours per Week"
   ]
  },
  {
   "cell_type": "code",
   "execution_count": 4,
   "id": "090f94e4-c02c-4425-8914-587c23e4d57d",
   "metadata": {},
   "outputs": [],
   "source": [
    "group_by_relationship = data.groupby(['relationship','hours-per-week'])"
   ]
  },
  {
   "cell_type": "markdown",
   "id": "108bc425-a63d-4361-8f7c-b714db20f284",
   "metadata": {},
   "source": [
    "Put the output into a Data Frame using Unstack"
   ]
  },
  {
   "cell_type": "code",
   "execution_count": 5,
   "id": "60dd3d91-1186-42bc-915f-8b69964b8dae",
   "metadata": {},
   "outputs": [],
   "source": [
    "group_by_relationship_df = group_by_relationship.size().unstack"
   ]
  },
  {
   "cell_type": "markdown",
   "id": "d25072e8-bc4a-4d0f-9543-e6792f19e67e",
   "metadata": {},
   "source": [
    "Display new Data Frame of Grouped Data"
   ]
  },
  {
   "cell_type": "markdown",
   "id": "47cbcfa3-0b8a-48c8-8640-dd1d63f39341",
   "metadata": {},
   "source": [
    "Define a function to reduce hours-per-week by the value of n"
   ]
  },
  {
   "cell_type": "code",
   "execution_count": 7,
   "id": "f89243cf-617a-49f6-b1cd-356d0e355f0b",
   "metadata": {},
   "outputs": [],
   "source": [
    "def reduce_by_n(x):\n",
    "    if x - n < 0: x = 0\n",
    "    else: x - n\n",
    "    return x"
   ]
  },
  {
   "cell_type": "markdown",
   "id": "17c0644d-48fb-4c80-92f9-9035e8e52080",
   "metadata": {},
   "source": [
    "Apply this function to the data"
   ]
  },
  {
   "cell_type": "code",
   "execution_count": 8,
   "id": "e90d48d0-12d5-4642-bae9-05f35a9feac9",
   "metadata": {},
   "outputs": [],
   "source": [
    "data['reduced_hours'] = data['hours-per-week'].apply(reduce_by_n)"
   ]
  },
  {
   "cell_type": "markdown",
   "id": "d56cdefa-1944-4fce-b552-d1b8190e3748",
   "metadata": {},
   "source": [
    "Repeat the grouping process but now group the data by relationship and reduced_hours"
   ]
  },
  {
   "cell_type": "code",
   "execution_count": 9,
   "id": "252f61f2-f2ed-429a-bf16-d3bded08b167",
   "metadata": {},
   "outputs": [],
   "source": [
    "group_by_relationship2 = data.groupby(['relationship','reduced_hours'])"
   ]
  },
  {
   "cell_type": "code",
   "execution_count": 10,
   "id": "4c88e2c4-a9bc-4e81-bcfe-514eb0eb1653",
   "metadata": {},
   "outputs": [],
   "source": [
    "group_by_relationship2 = group_by_relationship2.size().unstack"
   ]
  },
  {
   "cell_type": "markdown",
   "id": "a7b483ac-719d-4949-8a3e-1cc2a381e304",
   "metadata": {},
   "source": [
    "Display Results"
   ]
  },
  {
   "cell_type": "code",
   "execution_count": 11,
   "id": "f92662ca-dd55-4ff0-a472-8206d85b1571",
   "metadata": {},
   "outputs": [
    {
     "data": {
      "text/plain": [
       "<bound method Series.unstack of relationship   reduced_hours\n",
       "Husband        13               1\n",
       "               40               4\n",
       "               45               1\n",
       "               80               1\n",
       "Not-in-family  16               1\n",
       "               40               2\n",
       "               50               2\n",
       "Own-child      30               1\n",
       "Wife           40               2\n",
       "dtype: int64>"
      ]
     },
     "execution_count": 11,
     "metadata": {},
     "output_type": "execute_result"
    }
   ],
   "source": [
    "group_by_relationship2"
   ]
  }
 ],
 "metadata": {
  "kernelspec": {
   "display_name": "Python 3 (ipykernel)",
   "language": "python",
   "name": "python3"
  },
  "language_info": {
   "codemirror_mode": {
    "name": "ipython",
    "version": 3
   },
   "file_extension": ".py",
   "mimetype": "text/x-python",
   "name": "python",
   "nbconvert_exporter": "python",
   "pygments_lexer": "ipython3",
   "version": "3.12.5"
  }
 },
 "nbformat": 4,
 "nbformat_minor": 5
}
