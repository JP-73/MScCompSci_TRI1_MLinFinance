{
 "cells": [
  {
   "cell_type": "markdown",
   "id": "36cea7b8-467b-4973-9738-07374d4ef97c",
   "metadata": {},
   "source": [
    "Task: \n",
    "\n",
    "1) Create a vector using np.arange.\n",
    "Determine the number of the vector elements using the following method: Take the last two digits from your SID. It should be from 00 to 99. If this number is 10 or more, it becomes the required number of the vector elements. If it is less than 10, add 100 to your number.\n",
    "\n",
    "For example, if your SID is 2287467, and the last two digits are 67, which is greater than 10. The required number is 67. If your SID is 2287407, and the last two digits are 07, which is less than 10. The required number is 107.\n",
    "\n",
    "Then,\n",
    "\n",
    "2) Change matrix a to 2-d array with 1 row. Print the array. You should have the two sets of brackets for a 2-d array with one row.\n",
    "3) Save it in another array. Print the array.\n",
    "4) Check the shape attribute value.\n",
    "5) Add the code and result to your Lab Logbook:"
   ]
  },
  {
   "cell_type": "code",
   "execution_count": null,
   "id": "0ddbebb4-9652-443e-9cd1-85f74de6531f",
   "metadata": {},
   "outputs": [],
   "source": [
    "import numpy as np"
   ]
  },
  {
   "cell_type": "code",
   "execution_count": null,
   "id": "c25e9666-2bce-4324-8a2d-2c0839498a31",
   "metadata": {},
   "outputs": [],
   "source": [
    "#Get SID Number and check that it is a valid SID Number - Loop util an SID is entered\n",
    "validSid = False\n",
    "while validSid == False:\n",
    "    sid = input(\"Enter Student ID Number: \")\n",
    "    if sid.isnumeric() == False:\n",
    "        validSid = False\n",
    "    elif len(sid) > 7:\n",
    "        validSid = False\n",
    "    elif len(sid) < 7:\n",
    "        validSid = False\n",
    "    else:\n",
    "        validSid = True"
   ]
  },
  {
   "cell_type": "code",
   "execution_count": null,
   "id": "253f523a-228f-4f26-9230-ae052a166d0b",
   "metadata": {},
   "outputs": [],
   "source": [
    "#Create value by removing everything except the last 2 characters\n",
    "val = int(sid[-2:])"
   ]
  },
  {
   "cell_type": "code",
   "execution_count": null,
   "id": "4a9c4409-3257-48d5-9d8c-01f2e908d796",
   "metadata": {},
   "outputs": [],
   "source": [
    "#If the last 2 digits of the SID are less than 10 (e.g. 03), then add 100 to the numebr as per the instructions\n",
    "if val < 10:\n",
    "    val = val + 100"
   ]
  },
  {
   "cell_type": "code",
   "execution_count": null,
   "id": "419e45ee-d8a3-4cea-bcd3-69f50ef4964c",
   "metadata": {},
   "outputs": [],
   "source": [
    "print(val)"
   ]
  },
  {
   "cell_type": "code",
   "execution_count": null,
   "id": "5e2c3ce3-2597-4c2c-825a-4c7b70cc371b",
   "metadata": {},
   "outputs": [],
   "source": [
    "#Create array a using np.arange\n",
    "a = np.arange(val)"
   ]
  },
  {
   "cell_type": "code",
   "execution_count": null,
   "id": "28882093-6239-4c92-a8fe-cc368a0e15bc",
   "metadata": {},
   "outputs": [],
   "source": [
    "#Check shape of array a - should be e.g.:(67,)\n",
    "a.shape"
   ]
  },
  {
   "cell_type": "code",
   "execution_count": null,
   "id": "d77d5551-25b6-45c8-a8ca-e01137f36a83",
   "metadata": {},
   "outputs": [],
   "source": [
    "print(a)"
   ]
  },
  {
   "cell_type": "code",
   "execution_count": null,
   "id": "82b62d1a-77a4-47e6-aa70-6caaa0adc484",
   "metadata": {},
   "outputs": [],
   "source": [
    "#Convert from 1D Array to 2D Array with 1 Row\n",
    "a2 = a[np.newaxis, :]"
   ]
  },
  {
   "cell_type": "code",
   "execution_count": null,
   "id": "e6a1ad3b-ab73-4ce6-b04f-db950705b3a4",
   "metadata": {},
   "outputs": [],
   "source": [
    "print(a2)"
   ]
  },
  {
   "cell_type": "code",
   "execution_count": null,
   "id": "d3d64229-a1ce-45c2-9c8d-43d900928c42",
   "metadata": {},
   "outputs": [],
   "source": [
    "#Check shape of array a - should be e.g.:(1, 67)\n",
    "a2.shape"
   ]
  },
  {
   "cell_type": "code",
   "execution_count": null,
   "id": "d7909747-e391-4611-a50a-be33de7843ec",
   "metadata": {},
   "outputs": [],
   "source": [
    "#Save a\n",
    "a3 = a2"
   ]
  },
  {
   "cell_type": "code",
   "execution_count": null,
   "id": "0c93c18b-924f-42f5-a9e1-60fed1b04e8c",
   "metadata": {},
   "outputs": [],
   "source": [
    "print(a3)"
   ]
  },
  {
   "cell_type": "code",
   "execution_count": null,
   "id": "8db9855b-a3fe-4780-96ae-8e0e7007c215",
   "metadata": {},
   "outputs": [],
   "source": [
    "a3.shape"
   ]
  }
 ],
 "metadata": {
  "kernelspec": {
   "display_name": "Python 3 (ipykernel)",
   "language": "python",
   "name": "python3"
  },
  "language_info": {
   "codemirror_mode": {
    "name": "ipython",
    "version": 3
   },
   "file_extension": ".py",
   "mimetype": "text/x-python",
   "name": "python",
   "nbconvert_exporter": "python",
   "pygments_lexer": "ipython3",
   "version": "3.12.5"
  }
 },
 "nbformat": 4,
 "nbformat_minor": 5
}
